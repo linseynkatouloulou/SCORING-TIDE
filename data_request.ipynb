{
 "cells": [
  {
   "cell_type": "code",
   "execution_count": 4,
   "metadata": {},
   "outputs": [
    {
     "data": {
      "text/plain": [
       "['autorisations.sas7bdat', 'autorisations.zip', 'autorisations_ext']"
      ]
     },
     "execution_count": 4,
     "metadata": {},
     "output_type": "execute_result"
    }
   ],
   "source": [
    "import zipfile\n",
    "import os\n",
    "\n",
    "# Define the path to the uploaded zip file\n",
    "zip_file_path = 'data/autorisations.zip'\n",
    "# Define the extraction directory\n",
    "extraction_dir = 'data'\n",
    "\n",
    "# Create the extraction directory if it doesn't exist\n",
    "os.makedirs(extraction_dir, exist_ok=True)\n",
    "\n",
    "# Unzip the file\n",
    "with zipfile.ZipFile(zip_file_path, 'r') as zip_ref:\n",
    "    zip_ref.extractall(extraction_dir)\n",
    "\n",
    "# List the extracted files\n",
    "extracted_files = os.listdir(extraction_dir)\n",
    "extracted_files\n"
   ]
  },
  {
   "cell_type": "code",
   "execution_count": 5,
   "metadata": {},
   "outputs": [
    {
     "name": "stdout",
     "output_type": "stream",
     "text": [
      "Requirement already satisfied: pandas in c:\\users\\lulil\\anaconda3\\lib\\site-packages (1.5.3)\n",
      "Requirement already satisfied: sas7bdat in c:\\users\\lulil\\anaconda3\\lib\\site-packages (2.2.3)\n",
      "Requirement already satisfied: numpy>=1.20.3 in c:\\users\\lulil\\anaconda3\\lib\\site-packages (from pandas) (1.26.4)\n",
      "Requirement already satisfied: python-dateutil>=2.8.1 in c:\\users\\lulil\\anaconda3\\lib\\site-packages (from pandas) (2.8.2)\n",
      "Requirement already satisfied: pytz>=2020.1 in c:\\users\\lulil\\anaconda3\\lib\\site-packages (from pandas) (2021.3)\n",
      "Requirement already satisfied: six>=1.8.0 in c:\\users\\lulil\\anaconda3\\lib\\site-packages (from sas7bdat) (1.16.0)\n",
      "Note: you may need to restart the kernel to use updated packages.\n"
     ]
    }
   ],
   "source": [
    "pip install pandas sas7bdat"
   ]
  },
  {
   "cell_type": "code",
   "execution_count": 6,
   "metadata": {},
   "outputs": [
    {
     "name": "stdout",
     "output_type": "stream",
     "text": [
      "   Carte Pays        Date     Heure   dateheure CodeRep   MCC  Montant  \\\n",
      "0    0.0  840  2003-12-02  17:47:52  2003-12-02      15  5812    69.25   \n",
      "1    1.0  158  2003-11-25  06:00:20  2003-11-25      15  5311     1.00   \n",
      "2    2.0  826  2003-11-12  14:10:57  2003-11-12      15  5211   516.95   \n",
      "3    3.0  840  2003-11-07  03:41:55  2003-11-07      14  7399     0.01   \n",
      "4    4.0  158  2003-11-23  05:07:03  2003-11-23      15  5311     1.00   \n",
      "\n",
      "   fraude  FM_Velocity_Condition_3  ...  FM_Sum_12  FM_Sum_24  \\\n",
      "0     0.0                      0.0  ...      69.25      69.25   \n",
      "1     0.0                      0.0  ...       1.00       1.00   \n",
      "2     0.0                      0.0  ...     516.95     516.95   \n",
      "3     0.0                      0.0  ...       0.01       0.01   \n",
      "4     0.0                      0.0  ...       1.00       1.00   \n",
      "\n",
      "   FM_Redondance_MCC_3  FM_Redondance_MCC_6  FM_Redondance_MCC_12  \\\n",
      "0                  1.0                  1.0                   1.0   \n",
      "1                  1.0                  1.0                   1.0   \n",
      "2                  1.0                  1.0                   1.0   \n",
      "3                  1.0                  1.0                   1.0   \n",
      "4                  1.0                  1.0                   1.0   \n",
      "\n",
      "   FM_Redondance_MCC_24  FM_Difference_Pays_3  FM_Difference_Pays_6  \\\n",
      "0                   1.0                   1.0                   1.0   \n",
      "1                   1.0                   1.0                   1.0   \n",
      "2                   1.0                   1.0                   1.0   \n",
      "3                   1.0                   1.0                   1.0   \n",
      "4                   1.0                   1.0                   1.0   \n",
      "\n",
      "   FM_Difference_Pays_12  FM_Difference_Pays_24  \n",
      "0                    1.0                    1.0  \n",
      "1                    1.0                    1.0  \n",
      "2                    1.0                    1.0  \n",
      "3                    1.0                    1.0  \n",
      "4                    1.0                    1.0  \n",
      "\n",
      "[5 rows x 25 columns]\n"
     ]
    }
   ],
   "source": [
    "import pandas as pd\n",
    "from sas7bdat import SAS7BDAT\n",
    "\n",
    "# Specify the path to your SAS file\n",
    "file_path = 'data/autorisations.sas7bdat'\n",
    "\n",
    "# Load the SAS file using SAS7BDAT package\n",
    "with SAS7BDAT(file_path) as file:\n",
    "    data = file.to_data_frame()\n",
    "\n",
    "# Display the first few rows of the dataframe\n",
    "print(data.head())\n"
   ]
  }
 ],
 "metadata": {
  "kernelspec": {
   "display_name": "base",
   "language": "python",
   "name": "python3"
  },
  "language_info": {
   "codemirror_mode": {
    "name": "ipython",
    "version": 3
   },
   "file_extension": ".py",
   "mimetype": "text/x-python",
   "name": "python",
   "nbconvert_exporter": "python",
   "pygments_lexer": "ipython3",
   "version": "3.9.12"
  }
 },
 "nbformat": 4,
 "nbformat_minor": 2
}
