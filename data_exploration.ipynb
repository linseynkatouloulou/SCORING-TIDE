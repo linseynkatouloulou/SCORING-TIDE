{
 "cells": [
  {
   "cell_type": "code",
   "execution_count": 5,
   "metadata": {},
   "outputs": [
    {
     "name": "stdout",
     "output_type": "stream",
     "text": [
      "Requirement already satisfied: pandas in c:\\users\\lulil\\anaconda3\\lib\\site-packages (1.5.3)\n",
      "Requirement already satisfied: sas7bdat in c:\\users\\lulil\\anaconda3\\lib\\site-packages (2.2.3)\n",
      "Requirement already satisfied: numpy>=1.20.3 in c:\\users\\lulil\\anaconda3\\lib\\site-packages (from pandas) (1.26.4)\n",
      "Requirement already satisfied: python-dateutil>=2.8.1 in c:\\users\\lulil\\anaconda3\\lib\\site-packages (from pandas) (2.8.2)\n",
      "Requirement already satisfied: pytz>=2020.1 in c:\\users\\lulil\\anaconda3\\lib\\site-packages (from pandas) (2021.3)\n",
      "Requirement already satisfied: six>=1.8.0 in c:\\users\\lulil\\anaconda3\\lib\\site-packages (from sas7bdat) (1.16.0)\n",
      "Note: you may need to restart the kernel to use updated packages.\n"
     ]
    }
   ],
   "source": [
    "pip install pandas sas7bdat"
   ]
  },
  {
   "cell_type": "code",
   "execution_count": null,
   "metadata": {},
   "outputs": [],
   "source": [
    "import zipfile\n",
    "import os\n",
    "import pandas as pd\n",
    "from sas7bdat import SAS7BDAT\n",
    "import matplotlib.pyplot as plt\n",
    "import seaborn as sns"
   ]
  },
  {
   "cell_type": "code",
   "execution_count": 4,
   "metadata": {},
   "outputs": [
    {
     "data": {
      "text/plain": [
       "['autorisations.sas7bdat', 'autorisations.zip', 'autorisations_ext']"
      ]
     },
     "execution_count": 4,
     "metadata": {},
     "output_type": "execute_result"
    }
   ],
   "source": [
    "#cette partie sert à unzip le fichier autorisations : ce fichier trop gros ne peut pas etre chargé directement sur Github\n",
    "\n",
    "zip_file_path = 'data/autorisations.zip'\n",
    "extraction_dir = 'data'\n",
    "os.makedirs(extraction_dir, exist_ok=True)\n",
    "\n",
    "with zipfile.ZipFile(zip_file_path, 'r') as zip_ref:\n",
    "    zip_ref.extractall(extraction_dir)\n",
    "\n",
    "extracted_files = os.listdir(extraction_dir)\n",
    "extracted_files\n"
   ]
  },
  {
   "cell_type": "code",
   "execution_count": 3,
   "metadata": {},
   "outputs": [
    {
     "name": "stdout",
     "output_type": "stream",
     "text": [
      "            Carte Pays        Date     Heure   dateheure CodeRep   MCC  \\\n",
      "0             0.0  840  2003-12-02  17:47:52  2003-12-02      15  5812   \n",
      "1             1.0  158  2003-11-25  06:00:20  2003-11-25      15  5311   \n",
      "2             2.0  826  2003-11-12  14:10:57  2003-11-12      15  5211   \n",
      "3             3.0  840  2003-11-07  03:41:55  2003-11-07      14  7399   \n",
      "4             4.0  158  2003-11-23  05:07:03  2003-11-23      15  5311   \n",
      "...           ...  ...         ...       ...         ...     ...   ...   \n",
      "1151427  198041.0  056  2004-06-05  11:21:36  2004-06-05      00  5921   \n",
      "1151428  198041.0  056  2004-06-19  16:59:40  2004-06-19      00  5921   \n",
      "1151429  198042.0  056  2004-01-04  17:44:21  2004-01-04      00  5661   \n",
      "1151430  198043.0  442  2004-02-03  19:38:47  2004-02-03      00  5541   \n",
      "1151431  198043.0  442  2004-05-25  13:47:04  2004-05-25      00  5541   \n",
      "\n",
      "         Montant  fraude  FM_Velocity_Condition_3  ...  FM_Sum_12  FM_Sum_24  \\\n",
      "0          69.25     0.0                      0.0  ...      69.25      69.25   \n",
      "1           1.00     0.0                      0.0  ...       1.00       1.00   \n",
      "2         516.95     0.0                      0.0  ...     516.95     516.95   \n",
      "3           0.01     0.0                      0.0  ...       0.01       0.01   \n",
      "4           1.00     0.0                      0.0  ...       1.00       1.00   \n",
      "...          ...     ...                      ...  ...        ...        ...   \n",
      "1151427   163.77     0.0                      1.0  ...     163.77     163.77   \n",
      "1151428   136.18     0.0                      1.0  ...     136.18     136.18   \n",
      "1151429    34.38     0.0                      1.0  ...      34.38      34.38   \n",
      "1151430    80.20     0.0                      1.0  ...      80.20      80.20   \n",
      "1151431    56.85     0.0                      1.0  ...      56.85      56.85   \n",
      "\n",
      "         FM_Redondance_MCC_3  FM_Redondance_MCC_6  FM_Redondance_MCC_12  \\\n",
      "0                        1.0                  1.0                   1.0   \n",
      "1                        1.0                  1.0                   1.0   \n",
      "2                        1.0                  1.0                   1.0   \n",
      "3                        1.0                  1.0                   1.0   \n",
      "4                        1.0                  1.0                   1.0   \n",
      "...                      ...                  ...                   ...   \n",
      "1151427                  1.0                  1.0                   1.0   \n",
      "1151428                  1.0                  1.0                   1.0   \n",
      "1151429                  1.0                  1.0                   1.0   \n",
      "1151430                  1.0                  1.0                   1.0   \n",
      "1151431                  1.0                  1.0                   1.0   \n",
      "\n",
      "         FM_Redondance_MCC_24  FM_Difference_Pays_3  FM_Difference_Pays_6  \\\n",
      "0                         1.0                   1.0                   1.0   \n",
      "1                         1.0                   1.0                   1.0   \n",
      "2                         1.0                   1.0                   1.0   \n",
      "3                         1.0                   1.0                   1.0   \n",
      "4                         1.0                   1.0                   1.0   \n",
      "...                       ...                   ...                   ...   \n",
      "1151427                   1.0                   1.0                   1.0   \n",
      "1151428                   1.0                   1.0                   1.0   \n",
      "1151429                   1.0                   1.0                   1.0   \n",
      "1151430                   1.0                   1.0                   1.0   \n",
      "1151431                   1.0                   1.0                   1.0   \n",
      "\n",
      "         FM_Difference_Pays_12  FM_Difference_Pays_24  \n",
      "0                          1.0                    1.0  \n",
      "1                          1.0                    1.0  \n",
      "2                          1.0                    1.0  \n",
      "3                          1.0                    1.0  \n",
      "4                          1.0                    1.0  \n",
      "...                        ...                    ...  \n",
      "1151427                    1.0                    1.0  \n",
      "1151428                    1.0                    1.0  \n",
      "1151429                    1.0                    1.0  \n",
      "1151430                    1.0                    1.0  \n",
      "1151431                    1.0                    1.0  \n",
      "\n",
      "[1151432 rows x 25 columns]\n"
     ]
    }
   ],
   "source": [
    "file_path = 'data/autorisations.sas7bdat'\n",
    "with SAS7BDAT(file_path) as file:\n",
    "    data = file.to_data_frame()\n",
    "print(data)"
   ]
  },
  {
   "cell_type": "markdown",
   "metadata": {},
   "source": [
    "### ANALYSE EXPLORATOIRE"
   ]
  },
  {
   "cell_type": "code",
   "execution_count": 46,
   "metadata": {},
   "outputs": [
    {
     "data": {
      "text/plain": [
       "Carte                       float64\n",
       "Pays                         object\n",
       "Date                         object\n",
       "Heure                        object\n",
       "CodeRep                      object\n",
       "MCC                          object\n",
       "Montant                     float64\n",
       "fraude                      float64\n",
       "FM_Velocity_Condition_3     float64\n",
       "FM_Velocity_Condition_6     float64\n",
       "FM_Velocity_Condition_12    float64\n",
       "FM_Velocity_Condition_24    float64\n",
       "FM_Sum_3                    float64\n",
       "FM_Sum_6                    float64\n",
       "FM_Sum_12                   float64\n",
       "FM_Sum_24                   float64\n",
       "FM_Redondance_MCC_3         float64\n",
       "FM_Redondance_MCC_6         float64\n",
       "FM_Redondance_MCC_12        float64\n",
       "FM_Redondance_MCC_24        float64\n",
       "FM_Difference_Pays_3        float64\n",
       "FM_Difference_Pays_6        float64\n",
       "FM_Difference_Pays_12       float64\n",
       "FM_Difference_Pays_24       float64\n",
       "dtype: object"
      ]
     },
     "execution_count": 46,
     "metadata": {},
     "output_type": "execute_result"
    }
   ],
   "source": [
    "data.dtypes"
   ]
  },
  {
   "cell_type": "markdown",
   "metadata": {},
   "source": [
    "• Le numero de carte\n",
    "\n",
    "• La date de la transaction\n",
    "\n",
    "• Le montant\n",
    "\n",
    "• Le code du pays dans lequel la transaction a été réalisée\n",
    "\n",
    "• Le code du commercant chez qui la transaction a été réalisée (MCC)\n",
    "\n",
    "• Code réponse de la demande d’autorisation : 00 = Accepté, les autres codes sont des refus\n",
    "\n",
    "• La variable fraude permet d’identifier les transactions frauduleuses"
   ]
  },
  {
   "cell_type": "code",
   "execution_count": 15,
   "metadata": {},
   "outputs": [],
   "source": [
    "# columns = [\"dateheure\"] \n",
    "# data = data.drop(columns, axis=1)"
   ]
  },
  {
   "cell_type": "code",
   "execution_count": 11,
   "metadata": {},
   "outputs": [
    {
     "data": {
      "text/plain": [
       "Carte                       False\n",
       "Pays                        False\n",
       "Date                        False\n",
       "Heure                       False\n",
       "dateheure                   False\n",
       "CodeRep                     False\n",
       "MCC                         False\n",
       "Montant                     False\n",
       "fraude                      False\n",
       "FM_Velocity_Condition_3     False\n",
       "FM_Velocity_Condition_6     False\n",
       "FM_Velocity_Condition_12    False\n",
       "FM_Velocity_Condition_24    False\n",
       "FM_Sum_3                    False\n",
       "FM_Sum_6                    False\n",
       "FM_Sum_12                   False\n",
       "FM_Sum_24                   False\n",
       "FM_Redondance_MCC_3         False\n",
       "FM_Redondance_MCC_6         False\n",
       "FM_Redondance_MCC_12        False\n",
       "FM_Redondance_MCC_24        False\n",
       "FM_Difference_Pays_3        False\n",
       "FM_Difference_Pays_6        False\n",
       "FM_Difference_Pays_12       False\n",
       "FM_Difference_Pays_24       False\n",
       "dtype: bool"
      ]
     },
     "execution_count": 11,
     "metadata": {},
     "output_type": "execute_result"
    }
   ],
   "source": [
    "#pas de nan\n",
    "data.count().isna()"
   ]
  },
  {
   "cell_type": "code",
   "execution_count": 45,
   "metadata": {},
   "outputs": [
    {
     "data": {
      "text/plain": [
       "array([ 1.,  2.,  3.,  4.,  5.,  6.,  7.,  8.,  9., 10., 11., 12., 13.,\n",
       "       14., 15., 16., 17., 18., 19., 20., 21., 22., 23., 24., 25., 26.,\n",
       "       27., 28., 29., 30., 31., 32., 33., 34., 35., 36., 37., 38., 39.])"
      ]
     },
     "execution_count": 45,
     "metadata": {},
     "output_type": "execute_result"
    }
   ],
   "source": [
    "data[\"FM_Redondance_MCC_6\"].unique()"
   ]
  },
  {
   "cell_type": "code",
   "execution_count": 47,
   "metadata": {},
   "outputs": [
    {
     "data": {
      "text/plain": [
       "array([ 1.,  2.,  3.,  4.,  5.,  6.,  7.,  8.,  9., 10., 11., 12., 13.,\n",
       "       14., 15., 16., 17., 18., 19., 20., 21., 22., 23., 24., 25., 26.,\n",
       "       27., 28., 29., 30., 31., 32., 33., 34., 35., 36., 37., 38., 39.])"
      ]
     },
     "execution_count": 47,
     "metadata": {},
     "output_type": "execute_result"
    }
   ],
   "source": [
    "data[\"FM_Redondance_MCC_3\"].unique()"
   ]
  },
  {
   "cell_type": "code",
   "execution_count": 50,
   "metadata": {},
   "outputs": [],
   "source": [
    "data_dtypes = data.dtypes.reset_index().rename(columns={'index':'Champ',0:'Type'})\n",
    "data_dtypes\n",
    "\n",
    "for i in data.columns:\n",
    "    data_dtypes.loc[data_dtypes['Champ']==i,'Modalités'] = str(sorted(data[i].unique().tolist()))\n",
    "    data_dtypes.loc[data_dtypes['Champ']==i,'NbDistinctVal'] = data[i].nunique()"
   ]
  },
  {
   "cell_type": "code",
   "execution_count": 51,
   "metadata": {},
   "outputs": [
    {
     "data": {
      "text/html": [
       "<div>\n",
       "<style scoped>\n",
       "    .dataframe tbody tr th:only-of-type {\n",
       "        vertical-align: middle;\n",
       "    }\n",
       "\n",
       "    .dataframe tbody tr th {\n",
       "        vertical-align: top;\n",
       "    }\n",
       "\n",
       "    .dataframe thead th {\n",
       "        text-align: right;\n",
       "    }\n",
       "</style>\n",
       "<table border=\"1\" class=\"dataframe\">\n",
       "  <thead>\n",
       "    <tr style=\"text-align: right;\">\n",
       "      <th></th>\n",
       "      <th>Champ</th>\n",
       "      <th>Type</th>\n",
       "      <th>Modalités</th>\n",
       "      <th>NbDistinctVal</th>\n",
       "    </tr>\n",
       "  </thead>\n",
       "  <tbody>\n",
       "    <tr>\n",
       "      <th>0</th>\n",
       "      <td>Carte</td>\n",
       "      <td>float64</td>\n",
       "      <td>[0.0, 1.0, 2.0, 3.0, 4.0, 5.0, 6.0, 7.0, 8.0, ...</td>\n",
       "      <td>198044.0</td>\n",
       "    </tr>\n",
       "    <tr>\n",
       "      <th>1</th>\n",
       "      <td>Pays</td>\n",
       "      <td>object</td>\n",
       "      <td>['008', '012', '020', '028', '031', '032', '03...</td>\n",
       "      <td>167.0</td>\n",
       "    </tr>\n",
       "    <tr>\n",
       "      <th>2</th>\n",
       "      <td>Date</td>\n",
       "      <td>object</td>\n",
       "      <td>[datetime.date(2003, 11, 1), datetime.date(200...</td>\n",
       "      <td>243.0</td>\n",
       "    </tr>\n",
       "    <tr>\n",
       "      <th>3</th>\n",
       "      <td>Heure</td>\n",
       "      <td>object</td>\n",
       "      <td>['00:00:00', '00:00:01', '00:00:02', '00:00:03...</td>\n",
       "      <td>85697.0</td>\n",
       "    </tr>\n",
       "    <tr>\n",
       "      <th>4</th>\n",
       "      <td>CodeRep</td>\n",
       "      <td>object</td>\n",
       "      <td>['00', '02', '05', '07', '14', '15', '30', '41...</td>\n",
       "      <td>15.0</td>\n",
       "    </tr>\n",
       "    <tr>\n",
       "      <th>5</th>\n",
       "      <td>MCC</td>\n",
       "      <td>object</td>\n",
       "      <td>['0000', '0001', '0004', '0100', '0596', '0741...</td>\n",
       "      <td>661.0</td>\n",
       "    </tr>\n",
       "    <tr>\n",
       "      <th>6</th>\n",
       "      <td>Montant</td>\n",
       "      <td>float64</td>\n",
       "      <td>[0.0, 0.01, 0.02, 0.03, 0.04, 0.05, 0.06, 0.07...</td>\n",
       "      <td>81202.0</td>\n",
       "    </tr>\n",
       "    <tr>\n",
       "      <th>7</th>\n",
       "      <td>fraude</td>\n",
       "      <td>float64</td>\n",
       "      <td>[0.0, 1.0]</td>\n",
       "      <td>2.0</td>\n",
       "    </tr>\n",
       "    <tr>\n",
       "      <th>8</th>\n",
       "      <td>FM_Velocity_Condition_3</td>\n",
       "      <td>float64</td>\n",
       "      <td>[0.0, 1.0, 2.0, 3.0, 4.0, 5.0, 6.0, 7.0, 8.0, ...</td>\n",
       "      <td>47.0</td>\n",
       "    </tr>\n",
       "    <tr>\n",
       "      <th>9</th>\n",
       "      <td>FM_Velocity_Condition_6</td>\n",
       "      <td>float64</td>\n",
       "      <td>[0.0, 1.0, 2.0, 3.0, 4.0, 5.0, 6.0, 7.0, 8.0, ...</td>\n",
       "      <td>82.0</td>\n",
       "    </tr>\n",
       "    <tr>\n",
       "      <th>10</th>\n",
       "      <td>FM_Velocity_Condition_12</td>\n",
       "      <td>float64</td>\n",
       "      <td>[0.0, 1.0, 2.0, 3.0, 4.0, 5.0, 6.0, 7.0, 8.0, ...</td>\n",
       "      <td>111.0</td>\n",
       "    </tr>\n",
       "    <tr>\n",
       "      <th>11</th>\n",
       "      <td>FM_Velocity_Condition_24</td>\n",
       "      <td>float64</td>\n",
       "      <td>[0.0, 1.0, 2.0, 3.0, 4.0, 5.0, 6.0, 7.0, 8.0, ...</td>\n",
       "      <td>130.0</td>\n",
       "    </tr>\n",
       "    <tr>\n",
       "      <th>12</th>\n",
       "      <td>FM_Sum_3</td>\n",
       "      <td>float64</td>\n",
       "      <td>[0.0, 0.01, 0.02, 0.03, 0.039999999999632, 0.0...</td>\n",
       "      <td>109848.0</td>\n",
       "    </tr>\n",
       "    <tr>\n",
       "      <th>13</th>\n",
       "      <td>FM_Sum_6</td>\n",
       "      <td>float64</td>\n",
       "      <td>[0.0, 0.01, 0.02, 0.03, 0.04, 0.05, 0.06, 0.07...</td>\n",
       "      <td>115535.0</td>\n",
       "    </tr>\n",
       "    <tr>\n",
       "      <th>14</th>\n",
       "      <td>FM_Sum_12</td>\n",
       "      <td>float64</td>\n",
       "      <td>[0.0, 0.01, 0.02, 0.03, 0.04, 0.05, 0.06, 0.07...</td>\n",
       "      <td>121201.0</td>\n",
       "    </tr>\n",
       "    <tr>\n",
       "      <th>15</th>\n",
       "      <td>FM_Sum_24</td>\n",
       "      <td>float64</td>\n",
       "      <td>[0.0, 0.01, 0.02, 0.03, 0.04, 0.05, 0.06, 0.07...</td>\n",
       "      <td>134271.0</td>\n",
       "    </tr>\n",
       "    <tr>\n",
       "      <th>16</th>\n",
       "      <td>FM_Redondance_MCC_3</td>\n",
       "      <td>float64</td>\n",
       "      <td>[1.0, 2.0, 3.0, 4.0, 5.0, 6.0, 7.0, 8.0, 9.0, ...</td>\n",
       "      <td>39.0</td>\n",
       "    </tr>\n",
       "    <tr>\n",
       "      <th>17</th>\n",
       "      <td>FM_Redondance_MCC_6</td>\n",
       "      <td>float64</td>\n",
       "      <td>[1.0, 2.0, 3.0, 4.0, 5.0, 6.0, 7.0, 8.0, 9.0, ...</td>\n",
       "      <td>39.0</td>\n",
       "    </tr>\n",
       "    <tr>\n",
       "      <th>18</th>\n",
       "      <td>FM_Redondance_MCC_12</td>\n",
       "      <td>float64</td>\n",
       "      <td>[1.0, 2.0, 3.0, 4.0, 5.0, 6.0, 7.0, 8.0, 9.0, ...</td>\n",
       "      <td>46.0</td>\n",
       "    </tr>\n",
       "    <tr>\n",
       "      <th>19</th>\n",
       "      <td>FM_Redondance_MCC_24</td>\n",
       "      <td>float64</td>\n",
       "      <td>[1.0, 2.0, 3.0, 4.0, 5.0, 6.0, 7.0, 8.0, 9.0, ...</td>\n",
       "      <td>59.0</td>\n",
       "    </tr>\n",
       "    <tr>\n",
       "      <th>20</th>\n",
       "      <td>FM_Difference_Pays_3</td>\n",
       "      <td>float64</td>\n",
       "      <td>[1.0, 2.0, 3.0, 4.0, 5.0, 6.0, 7.0, 8.0, 9.0, ...</td>\n",
       "      <td>10.0</td>\n",
       "    </tr>\n",
       "    <tr>\n",
       "      <th>21</th>\n",
       "      <td>FM_Difference_Pays_6</td>\n",
       "      <td>float64</td>\n",
       "      <td>[1.0, 2.0, 3.0, 4.0, 5.0, 6.0, 7.0, 8.0, 9.0, ...</td>\n",
       "      <td>15.0</td>\n",
       "    </tr>\n",
       "    <tr>\n",
       "      <th>22</th>\n",
       "      <td>FM_Difference_Pays_12</td>\n",
       "      <td>float64</td>\n",
       "      <td>[1.0, 2.0, 3.0, 4.0, 5.0, 6.0, 7.0, 8.0, 9.0, ...</td>\n",
       "      <td>15.0</td>\n",
       "    </tr>\n",
       "    <tr>\n",
       "      <th>23</th>\n",
       "      <td>FM_Difference_Pays_24</td>\n",
       "      <td>float64</td>\n",
       "      <td>[1.0, 2.0, 3.0, 4.0, 5.0, 6.0, 7.0, 8.0, 9.0, ...</td>\n",
       "      <td>17.0</td>\n",
       "    </tr>\n",
       "  </tbody>\n",
       "</table>\n",
       "</div>"
      ],
      "text/plain": [
       "                       Champ     Type  \\\n",
       "0                      Carte  float64   \n",
       "1                       Pays   object   \n",
       "2                       Date   object   \n",
       "3                      Heure   object   \n",
       "4                    CodeRep   object   \n",
       "5                        MCC   object   \n",
       "6                    Montant  float64   \n",
       "7                     fraude  float64   \n",
       "8    FM_Velocity_Condition_3  float64   \n",
       "9    FM_Velocity_Condition_6  float64   \n",
       "10  FM_Velocity_Condition_12  float64   \n",
       "11  FM_Velocity_Condition_24  float64   \n",
       "12                  FM_Sum_3  float64   \n",
       "13                  FM_Sum_6  float64   \n",
       "14                 FM_Sum_12  float64   \n",
       "15                 FM_Sum_24  float64   \n",
       "16       FM_Redondance_MCC_3  float64   \n",
       "17       FM_Redondance_MCC_6  float64   \n",
       "18      FM_Redondance_MCC_12  float64   \n",
       "19      FM_Redondance_MCC_24  float64   \n",
       "20      FM_Difference_Pays_3  float64   \n",
       "21      FM_Difference_Pays_6  float64   \n",
       "22     FM_Difference_Pays_12  float64   \n",
       "23     FM_Difference_Pays_24  float64   \n",
       "\n",
       "                                            Modalités  NbDistinctVal  \n",
       "0   [0.0, 1.0, 2.0, 3.0, 4.0, 5.0, 6.0, 7.0, 8.0, ...       198044.0  \n",
       "1   ['008', '012', '020', '028', '031', '032', '03...          167.0  \n",
       "2   [datetime.date(2003, 11, 1), datetime.date(200...          243.0  \n",
       "3   ['00:00:00', '00:00:01', '00:00:02', '00:00:03...        85697.0  \n",
       "4   ['00', '02', '05', '07', '14', '15', '30', '41...           15.0  \n",
       "5   ['0000', '0001', '0004', '0100', '0596', '0741...          661.0  \n",
       "6   [0.0, 0.01, 0.02, 0.03, 0.04, 0.05, 0.06, 0.07...        81202.0  \n",
       "7                                          [0.0, 1.0]            2.0  \n",
       "8   [0.0, 1.0, 2.0, 3.0, 4.0, 5.0, 6.0, 7.0, 8.0, ...           47.0  \n",
       "9   [0.0, 1.0, 2.0, 3.0, 4.0, 5.0, 6.0, 7.0, 8.0, ...           82.0  \n",
       "10  [0.0, 1.0, 2.0, 3.0, 4.0, 5.0, 6.0, 7.0, 8.0, ...          111.0  \n",
       "11  [0.0, 1.0, 2.0, 3.0, 4.0, 5.0, 6.0, 7.0, 8.0, ...          130.0  \n",
       "12  [0.0, 0.01, 0.02, 0.03, 0.039999999999632, 0.0...       109848.0  \n",
       "13  [0.0, 0.01, 0.02, 0.03, 0.04, 0.05, 0.06, 0.07...       115535.0  \n",
       "14  [0.0, 0.01, 0.02, 0.03, 0.04, 0.05, 0.06, 0.07...       121201.0  \n",
       "15  [0.0, 0.01, 0.02, 0.03, 0.04, 0.05, 0.06, 0.07...       134271.0  \n",
       "16  [1.0, 2.0, 3.0, 4.0, 5.0, 6.0, 7.0, 8.0, 9.0, ...           39.0  \n",
       "17  [1.0, 2.0, 3.0, 4.0, 5.0, 6.0, 7.0, 8.0, 9.0, ...           39.0  \n",
       "18  [1.0, 2.0, 3.0, 4.0, 5.0, 6.0, 7.0, 8.0, 9.0, ...           46.0  \n",
       "19  [1.0, 2.0, 3.0, 4.0, 5.0, 6.0, 7.0, 8.0, 9.0, ...           59.0  \n",
       "20  [1.0, 2.0, 3.0, 4.0, 5.0, 6.0, 7.0, 8.0, 9.0, ...           10.0  \n",
       "21  [1.0, 2.0, 3.0, 4.0, 5.0, 6.0, 7.0, 8.0, 9.0, ...           15.0  \n",
       "22  [1.0, 2.0, 3.0, 4.0, 5.0, 6.0, 7.0, 8.0, 9.0, ...           15.0  \n",
       "23  [1.0, 2.0, 3.0, 4.0, 5.0, 6.0, 7.0, 8.0, 9.0, ...           17.0  "
      ]
     },
     "execution_count": 51,
     "metadata": {},
     "output_type": "execute_result"
    }
   ],
   "source": [
    "data_dtypes"
   ]
  },
  {
   "cell_type": "code",
   "execution_count": 48,
   "metadata": {},
   "outputs": [
    {
     "name": "stdout",
     "output_type": "stream",
     "text": [
      "Lignes où col3 et col4 sont différentes:\n",
      "            Carte Pays        Date     Heure CodeRep   MCC  Montant  fraude  \\\n",
      "61           49.0  826  2003-11-24  11:36:46      15  5969     1.00     0.0   \n",
      "62           49.0  826  2003-11-24  11:38:32      15  5969     1.00     0.0   \n",
      "268         103.0  056  2004-03-20  06:48:13      00  4722   593.06     0.0   \n",
      "271         103.0  484  2004-03-31  21:49:51      00  5970   227.39     0.0   \n",
      "416         143.0  208  2004-06-01  20:23:37      00  4784    61.85     0.0   \n",
      "...           ...  ...         ...       ...     ...   ...      ...     ...   \n",
      "1151076  197980.0  756  2003-12-26  17:10:46      00  7011    52.64     0.0   \n",
      "1151095  197988.0  826  2004-06-11  20:58:38      02  3642    92.50     0.0   \n",
      "1151129  197998.0  020  2004-01-12  13:21:26      00  5541    24.10     0.0   \n",
      "1151191  197999.0  504  2004-05-19  15:42:35      00  5411    33.48     0.0   \n",
      "1151204  197999.0  818  2004-06-03  11:59:45      00  5309    33.81     0.0   \n",
      "\n",
      "         FM_Velocity_Condition_3  FM_Velocity_Condition_6  ...   FM_Sum_12  \\\n",
      "61                           0.0                      0.0  ...    2.000000   \n",
      "62                           0.0                      0.0  ...    3.000000   \n",
      "268                          1.0                      2.0  ...  558.770000   \n",
      "271                          1.0                      2.0  ...  233.330000   \n",
      "416                          1.0                      2.0  ...  149.070000   \n",
      "...                          ...                      ...  ...         ...   \n",
      "1151076                      1.0                      2.0  ...   52.799999   \n",
      "1151095                      0.0                      1.0  ...  172.500000   \n",
      "1151129                      3.0                      4.0  ...  364.520000   \n",
      "1151191                      1.0                      2.0  ...  110.760000   \n",
      "1151204                      1.0                      2.0  ...  114.240000   \n",
      "\n",
      "          FM_Sum_24  FM_Redondance_MCC_3  FM_Redondance_MCC_6  \\\n",
      "61         2.000000                  1.0                  2.0   \n",
      "62         3.000000                  2.0                  3.0   \n",
      "268      558.770000                  1.0                  2.0   \n",
      "271      233.330000                  1.0                  2.0   \n",
      "416      149.070000                  1.0                  2.0   \n",
      "...             ...                  ...                  ...   \n",
      "1151076   52.799999                  1.0                  2.0   \n",
      "1151095  172.500000                  1.0                  2.0   \n",
      "1151129  447.220000                  1.0                  2.0   \n",
      "1151191  110.760000                  1.0                  2.0   \n",
      "1151204  143.650000                  1.0                  2.0   \n",
      "\n",
      "         FM_Redondance_MCC_12  FM_Redondance_MCC_24  FM_Difference_Pays_3  \\\n",
      "61                        2.0                   2.0                   1.0   \n",
      "62                        3.0                   3.0                   1.0   \n",
      "268                       2.0                   2.0                   1.0   \n",
      "271                       2.0                   2.0                   1.0   \n",
      "416                       2.0                   2.0                   1.0   \n",
      "...                       ...                   ...                   ...   \n",
      "1151076                   2.0                   2.0                   1.0   \n",
      "1151095                   2.0                   2.0                   1.0   \n",
      "1151129                   2.0                   3.0                   2.0   \n",
      "1151191                   2.0                   2.0                   1.0   \n",
      "1151204                   2.0                   2.0                   1.0   \n",
      "\n",
      "         FM_Difference_Pays_6  FM_Difference_Pays_12  FM_Difference_Pays_24  \n",
      "61                        2.0                    2.0                    2.0  \n",
      "62                        2.0                    2.0                    2.0  \n",
      "268                       1.0                    1.0                    1.0  \n",
      "271                       1.0                    1.0                    1.0  \n",
      "416                       1.0                    1.0                    1.0  \n",
      "...                       ...                    ...                    ...  \n",
      "1151076                   1.0                    1.0                    1.0  \n",
      "1151095                   1.0                    1.0                    1.0  \n",
      "1151129                   2.0                    2.0                    2.0  \n",
      "1151191                   1.0                    1.0                    1.0  \n",
      "1151204                   1.0                    1.0                    1.0  \n",
      "\n",
      "[20451 rows x 24 columns]\n"
     ]
    }
   ],
   "source": [
    "differences = data[data['FM_Redondance_MCC_3'] != data['FM_Redondance_MCC_6']]\n",
    "\n",
    "print(\"Lignes où FM_Redondance_MCC_3 et FM_Redondance_MCC_6 sont différentes:\")\n",
    "print(differences)"
   ]
  },
  {
   "cell_type": "code",
   "execution_count": 63,
   "metadata": {},
   "outputs": [],
   "source": [
    "data.columns = data.columns.str.lower()"
   ]
  },
  {
   "cell_type": "markdown",
   "metadata": {},
   "source": [
    "pas de problème apparent dans les données : on peut commencer la premiere analyse exploratrice"
   ]
  },
  {
   "cell_type": "code",
   "execution_count": 70,
   "metadata": {},
   "outputs": [],
   "source": [
    "data[\"fraude\"] = data[\"fraude\"].astype('int64')"
   ]
  },
  {
   "cell_type": "code",
   "execution_count": 71,
   "metadata": {},
   "outputs": [
    {
     "name": "stdout",
     "output_type": "stream",
     "text": [
      "Répartition variable \"fraude\":\n"
     ]
    },
    {
     "data": {
      "text/plain": [
       "fraude\n",
       "0         1144186\n",
       "1            7246\n",
       "dtype: int64"
      ]
     },
     "execution_count": 71,
     "metadata": {},
     "output_type": "execute_result"
    }
   ],
   "source": [
    "print(f'Répartition variable \"{\"fraude\"}\":')\n",
    "data[[\"fraude\"]].value_counts(normalize=False)"
   ]
  },
  {
   "cell_type": "code",
   "execution_count": 77,
   "metadata": {},
   "outputs": [],
   "source": [
    "# Calcul du pourcentage de fraude par pays\n",
    "fraude_par_pays = data.groupby('pays')['fraude'].agg(['sum', 'count'])\n",
    "fraude_par_pays['pourcentage_fraude'] = (fraude_par_pays['sum'] / fraude_par_pays['count']) \n",
    "\n",
    "# Renommer les colonnes pour plus de clarté\n",
    "fraude_par_pays.rename(columns={'sum': 'nombre_de_fraudes', 'count': 'nombre_total'}, inplace=True)\n"
   ]
  },
  {
   "cell_type": "markdown",
   "metadata": {},
   "source": [
    "FRAUDE PAR PAYS"
   ]
  },
  {
   "cell_type": "code",
   "execution_count": 81,
   "metadata": {},
   "outputs": [
    {
     "data": {
      "image/png": "[encoded data removed]",
      "text/plain": [
       "<Figure size 3600x432 with 1 Axes>"
      ]
     },
     "metadata": {
      "needs_background": "light"
     },
     "output_type": "display_data"
    }
   ],
   "source": [
    "# Créer l'histogramme\n",
    "plt.figure(figsize=(50, 6))\n",
    "sns.barplot(x=fraude_par_pays.index, y=fraude_par_pays['pourcentage_fraude'], palette='viridis')\n",
    "\n",
    "# Ajouter des labels et un titre\n",
    "plt.xlabel('Pays')\n",
    "plt.ylabel('Pourcentage de fraudes')\n",
    "plt.title('Pourcentage de fraudes par pays')\n",
    "\n",
    "# Afficher le graphique\n",
    "plt.show()\n"
   ]
  },
  {
   "cell_type": "code",
   "execution_count": 85,
   "metadata": {},
   "outputs": [
    {
     "data": {
      "image/png": "[encoded data removed]",
      "text/plain": [
       "<Figure size 720x432 with 1 Axes>"
      ]
     },
     "metadata": {
      "needs_background": "light"
     },
     "output_type": "display_data"
    }
   ],
   "source": [
    "\n"
   ]
  },
  {
   "cell_type": "markdown",
   "metadata": {},
   "source": [
    "certains pays n'ont subi aucune fraude sur la période"
   ]
  },
  {
   "cell_type": "code",
   "execution_count": null,
   "metadata": {},
   "outputs": [],
   "source": []
  }
 ],
 "metadata": {
  "kernelspec": {
   "display_name": "base",
   "language": "python",
   "name": "python3"
  },
  "language_info": {
   "codemirror_mode": {
    "name": "ipython",
    "version": 3
   },
   "file_extension": ".py",
   "mimetype": "text/x-python",
   "name": "python",
   "nbconvert_exporter": "python",
   "pygments_lexer": "ipython3",
   "version": "3.9.12"
  }
 },
 "nbformat": 4,
 "nbformat_minor": 2
}
