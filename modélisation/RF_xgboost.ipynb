{
 "cells": [
  {
   "cell_type": "markdown",
   "metadata": {},
   "source": [
    "### III- Comparaison entre les modèles de Random Forest et XgBoost"
   ]
  },
  {
   "cell_type": "code",
   "execution_count": 44,
   "metadata": {},
   "outputs": [
    {
     "name": "stdout",
     "output_type": "stream",
     "text": [
      "Current working directory: c:\\Users\\lulil\\OneDrive\\Documents\\SCORING-TIDE\\modélisation\n",
      "Updated sys.path: ['c:\\\\Users\\\\lulil\\\\OneDrive\\\\Documents\\\\SCORING-TIDE\\\\modélisation', 'c:\\\\Users\\\\lulil\\\\anaconda3\\\\python39.zip', 'c:\\\\Users\\\\lulil\\\\anaconda3\\\\DLLs', 'c:\\\\Users\\\\lulil\\\\anaconda3\\\\lib', 'c:\\\\Users\\\\lulil\\\\anaconda3', '', 'C:\\\\Users\\\\lulil\\\\AppData\\\\Roaming\\\\Python\\\\Python39\\\\site-packages', 'c:\\\\Users\\\\lulil\\\\anaconda3\\\\lib\\\\site-packages', 'c:\\\\Users\\\\lulil\\\\anaconda3\\\\lib\\\\site-packages\\\\win32', 'c:\\\\Users\\\\lulil\\\\anaconda3\\\\lib\\\\site-packages\\\\win32\\\\lib', 'c:\\\\Users\\\\lulil\\\\anaconda3\\\\lib\\\\site-packages\\\\Pythonwin', 'c:\\\\Users\\\\lulil\\\\OneDrive\\\\Documents\\\\SCORING-TIDE', 'c:\\\\Users\\\\lulil\\\\OneDrive\\\\Documents\\\\SCORING-TIDE', 'c:\\\\Users\\\\lulil\\\\OneDrive\\\\Documents\\\\SCORING-TIDE', 'c:\\\\Users\\\\lulil\\\\OneDrive\\\\Documents\\\\SCORING-TIDE', 'c:\\\\Users\\\\lulil\\\\OneDrive\\\\Documents\\\\SCORING-TIDE', 'c:\\\\Users\\\\lulil\\\\OneDrive\\\\Documents\\\\SCORING-TIDE', 'c:\\\\Users\\\\lulil\\\\OneDrive\\\\Documents\\\\SCORING-TIDE']\n"
     ]
    }
   ],
   "source": [
    "import pyarrow.parquet as pq\n",
    "import pyarrow as pa\n",
    "import pandas as pd\n",
    "import sys\n",
    "import os\n",
    "\n",
    "print(\"Current working directory:\", os.getcwd())\n",
    "\n",
    "sys.path.append(os.path.abspath('..'))\n",
    "print(\"Updated sys.path:\", sys.path)\n",
    "from fonctions import defined_X_y\n",
    "import xgboost as xgb\n",
    "from sklearn.linear_model import LogisticRegression\n",
    "from sklearn.tree import DecisionTreeClassifier\n",
    "from sklearn.ensemble import RandomForestClassifier\n",
    "from skopt.space import Real,Integer,Categorical\n",
    "from skopt import BayesSearchCV\n",
    "from timeit import default_timer as timer\n",
    "from sklearn.metrics import roc_curve, auc\n",
    "import matplotlib.pyplot as plt\n",
    "from sklearn.metrics import log_loss\n",
    "from sklearn.metrics import precision_recall_curve\n",
    "from sklearn.metrics import average_precision_score"
   ]
  },
  {
   "cell_type": "code",
   "execution_count": 3,
   "metadata": {},
   "outputs": [],
   "source": [
    "table = pq.read_table('../data/train_dummies_data.parquet')\n",
    "t = pq.read_table('../data/test_dummies_data.parquet')\n",
    "train_df = table.to_pandas()\n",
    "test_df = t.to_pandas()"
   ]
  },
  {
   "cell_type": "code",
   "execution_count": 49,
   "metadata": {},
   "outputs": [],
   "source": [
    "train_df = train_df.sample(frac=0.5, random_state=42)\n",
    "test_df = test_df.sample(frac=0.5, random_state=42)"
   ]
  },
  {
   "cell_type": "code",
   "execution_count": 50,
   "metadata": {},
   "outputs": [],
   "source": [
    "X_train, y_train = defined_X_y(train_df, 'fraude')\n",
    "X_test, y_test = defined_X_y(test_df, 'fraude')"
   ]
  },
  {
   "cell_type": "markdown",
   "metadata": {},
   "source": [
    "1. Random Forest"
   ]
  },
  {
   "cell_type": "code",
   "execution_count": 51,
   "metadata": {},
   "outputs": [],
   "source": [
    "param_dict_bayes_RF = {\n",
    "    'n_estimators' : Integer(10,200),\n",
    "    'criterion': Categorical(['gini', 'entropy']), \n",
    "    'max_depth': Integer(2,10),\n",
    "    'bootstrap':Categorical([True,False])}"
   ]
  },
  {
   "cell_type": "code",
   "execution_count": 16,
   "metadata": {},
   "outputs": [
    {
     "name": "stdout",
     "output_type": "stream",
     "text": [
      " #### RECHERCHE DES PARAMETRES OPTIMAUX POUR LE RANDOM FOREST #### \n",
      "\n",
      " Paramètres optimaux : \n",
      "OrderedDict([('bootstrap', False), ('criterion', 'gini'), ('max_depth', 8), ('n_estimators', 63)])\n",
      "\n",
      " Résultats  : 0.8142683558541154\n"
     ]
    }
   ],
   "source": [
    "#recherche des hyperparèmetres optimaux\n",
    "\n",
    "opt = BayesSearchCV(RandomForestClassifier(),param_dict_bayes_RF,n_iter=5,cv=3,scoring = 'roc_auc',random_state=1)\n",
    "\n",
    "\n",
    "opt.fit(X_train, y_train)\n",
    "best_param_opti_bayes =opt.best_params_\n",
    "best_score_opti_bayes = opt.best_score_\n",
    "all_result_opti_bayes = opt.cv_results_\n",
    "print(\" #### RECHERCHE DES PARAMETRES OPTIMAUX POUR LE RANDOM FOREST #### \")\n",
    "print(\"\\n Paramètres optimaux : \")\n",
    "best_param_opti_bayes =opt.best_params_\n",
    "print(best_param_opti_bayes)\n",
    "best_score_opti_bayes = opt.best_score_\n",
    "print(\"\\n Résultats  : \" + str(best_score_opti_bayes))"
   ]
  },
  {
   "cell_type": "code",
   "execution_count": 17,
   "metadata": {},
   "outputs": [
    {
     "data": {
      "text/plain": [
       "RandomForestClassifier(bootstrap=False, max_depth=8, n_estimators=63)"
      ]
     },
     "execution_count": 17,
     "metadata": {},
     "output_type": "execute_result"
    }
   ],
   "source": [
    "rf_clf = RandomForestClassifier(**opt.best_params_)\n",
    "rf_clf.fit(X_train,y_train)"
   ]
  },
  {
   "cell_type": "code",
   "execution_count": 30,
   "metadata": {},
   "outputs": [
    {
     "name": "stdout",
     "output_type": "stream",
     "text": [
      "                     Variable  Feature Importance\n",
      "2    fm_velocity_condition_24            0.188994\n",
      "3                   fm_sum_24            0.110427\n",
      "1                     montant            0.070200\n",
      "4        fm_redondance_mcc_24            0.043125\n",
      "154                  pays_792            0.042584\n",
      "..                        ...                 ...\n",
      "352                  mcc_3517            0.000000\n",
      "353                  mcc_3518            0.000000\n",
      "354                  mcc_3519            0.000000\n",
      "355                  mcc_3520            0.000000\n",
      "438                  mcc_3668            0.000000\n",
      "\n",
      "[876 rows x 2 columns]\n"
     ]
    }
   ],
   "source": [
    "importance_variable_rf = pd.DataFrame()\n",
    "importance_variable_rf[\"Variable\"] = X_train.columns\n",
    "importance_variable_rf[\"Feature Importance\"] = rf_clf.feature_importances_\n",
    "\n",
    "# Sort the DataFrame by feature importance\n",
    "importance_variable_rf = importance_variable_rf.sort_values(by=\"Feature Importance\", ascending=False)\n",
    "\n",
    "# Display the DataFrame\n",
    "print(importance_variable_rf)"
   ]
  },
  {
   "cell_type": "markdown",
   "metadata": {},
   "source": [
    "XgBoost"
   ]
  },
  {
   "cell_type": "code",
   "execution_count": 18,
   "metadata": {},
   "outputs": [],
   "source": [
    "param_dict_XGB = {\n",
    "    'objective':Categorical(['binary:logistic']),\n",
    "    'booster':Categorical(['gbtree']), #,'gblinear','dart'\n",
    "    'base_estimator' : Categorical([LogisticRegression(),DecisionTreeClassifier()]),\n",
    "    'learning_rate' : Real(0.05,1, prior='uniform'),\n",
    "    'label' : X_train.columns.tolist()}"
   ]
  },
  {
   "cell_type": "code",
   "execution_count": 19,
   "metadata": {},
   "outputs": [],
   "source": [
    "# Instanciation de l'optimisation bayésienne\n",
    "opt = BayesSearchCV(xgb.XGBClassifier(),param_dict_XGB,n_iter=5,cv=5,scoring = 'roc_auc',random_state=1)"
   ]
  },
  {
   "cell_type": "code",
   "execution_count": 21,
   "metadata": {},
   "outputs": [],
   "source": [
    "#permet d'optimiser la structure du Df\n",
    "dtrain = xgb.DMatrix(X_train, label=y_train)\n",
    "dtest = xgb.DMatrix(X_test, label=y_test)"
   ]
  },
  {
   "cell_type": "code",
   "execution_count": 22,
   "metadata": {},
   "outputs": [
    {
     "name": "stderr",
     "output_type": "stream",
     "text": [
      "c:\\Users\\lulil\\anaconda3\\lib\\site-packages\\xgboost\\core.py:158: UserWarning: [10:11:15] WARNING: C:\\buildkite-agent\\builds\\buildkite-windows-cpu-autoscaling-group-i-06abd128ca6c1688d-1\\xgboost\\xgboost-ci-windows\\src\\learner.cc:740: \n",
      "Parameters: { \"base_estimator\", \"label\" } are not used.\n",
      "\n",
      "  warnings.warn(smsg, UserWarning)\n",
      "c:\\Users\\lulil\\anaconda3\\lib\\site-packages\\xgboost\\core.py:158: UserWarning: [10:11:29] WARNING: C:\\buildkite-agent\\builds\\buildkite-windows-cpu-autoscaling-group-i-06abd128ca6c1688d-1\\xgboost\\xgboost-ci-windows\\src\\learner.cc:740: \n",
      "Parameters: { \"base_estimator\", \"label\" } are not used.\n",
      "\n",
      "  warnings.warn(smsg, UserWarning)\n",
      "c:\\Users\\lulil\\anaconda3\\lib\\site-packages\\xgboost\\core.py:158: UserWarning: [10:11:48] WARNING: C:\\buildkite-agent\\builds\\buildkite-windows-cpu-autoscaling-group-i-06abd128ca6c1688d-1\\xgboost\\xgboost-ci-windows\\src\\learner.cc:740: \n",
      "Parameters: { \"base_estimator\", \"label\" } are not used.\n",
      "\n",
      "  warnings.warn(smsg, UserWarning)\n",
      "c:\\Users\\lulil\\anaconda3\\lib\\site-packages\\xgboost\\core.py:158: UserWarning: [10:11:59] WARNING: C:\\buildkite-agent\\builds\\buildkite-windows-cpu-autoscaling-group-i-06abd128ca6c1688d-1\\xgboost\\xgboost-ci-windows\\src\\learner.cc:740: \n",
      "Parameters: { \"base_estimator\", \"label\" } are not used.\n",
      "\n",
      "  warnings.warn(smsg, UserWarning)\n",
      "c:\\Users\\lulil\\anaconda3\\lib\\site-packages\\xgboost\\core.py:158: UserWarning: [10:12:07] WARNING: C:\\buildkite-agent\\builds\\buildkite-windows-cpu-autoscaling-group-i-06abd128ca6c1688d-1\\xgboost\\xgboost-ci-windows\\src\\learner.cc:740: \n",
      "Parameters: { \"base_estimator\", \"label\" } are not used.\n",
      "\n",
      "  warnings.warn(smsg, UserWarning)\n",
      "c:\\Users\\lulil\\anaconda3\\lib\\site-packages\\xgboost\\core.py:158: UserWarning: [10:12:16] WARNING: C:\\buildkite-agent\\builds\\buildkite-windows-cpu-autoscaling-group-i-06abd128ca6c1688d-1\\xgboost\\xgboost-ci-windows\\src\\learner.cc:740: \n",
      "Parameters: { \"base_estimator\", \"label\" } are not used.\n",
      "\n",
      "  warnings.warn(smsg, UserWarning)\n",
      "c:\\Users\\lulil\\anaconda3\\lib\\site-packages\\xgboost\\core.py:158: UserWarning: [10:12:25] WARNING: C:\\buildkite-agent\\builds\\buildkite-windows-cpu-autoscaling-group-i-06abd128ca6c1688d-1\\xgboost\\xgboost-ci-windows\\src\\learner.cc:740: \n",
      "Parameters: { \"base_estimator\", \"label\" } are not used.\n",
      "\n",
      "  warnings.warn(smsg, UserWarning)\n",
      "c:\\Users\\lulil\\anaconda3\\lib\\site-packages\\xgboost\\core.py:158: UserWarning: [10:12:33] WARNING: C:\\buildkite-agent\\builds\\buildkite-windows-cpu-autoscaling-group-i-06abd128ca6c1688d-1\\xgboost\\xgboost-ci-windows\\src\\learner.cc:740: \n",
      "Parameters: { \"base_estimator\", \"label\" } are not used.\n",
      "\n",
      "  warnings.warn(smsg, UserWarning)\n",
      "c:\\Users\\lulil\\anaconda3\\lib\\site-packages\\xgboost\\core.py:158: UserWarning: [10:12:42] WARNING: C:\\buildkite-agent\\builds\\buildkite-windows-cpu-autoscaling-group-i-06abd128ca6c1688d-1\\xgboost\\xgboost-ci-windows\\src\\learner.cc:740: \n",
      "Parameters: { \"base_estimator\", \"label\" } are not used.\n",
      "\n",
      "  warnings.warn(smsg, UserWarning)\n",
      "c:\\Users\\lulil\\anaconda3\\lib\\site-packages\\xgboost\\core.py:158: UserWarning: [10:12:50] WARNING: C:\\buildkite-agent\\builds\\buildkite-windows-cpu-autoscaling-group-i-06abd128ca6c1688d-1\\xgboost\\xgboost-ci-windows\\src\\learner.cc:740: \n",
      "Parameters: { \"base_estimator\", \"label\" } are not used.\n",
      "\n",
      "  warnings.warn(smsg, UserWarning)\n",
      "c:\\Users\\lulil\\anaconda3\\lib\\site-packages\\xgboost\\core.py:158: UserWarning: [10:12:58] WARNING: C:\\buildkite-agent\\builds\\buildkite-windows-cpu-autoscaling-group-i-06abd128ca6c1688d-1\\xgboost\\xgboost-ci-windows\\src\\learner.cc:740: \n",
      "Parameters: { \"base_estimator\", \"label\" } are not used.\n",
      "\n",
      "  warnings.warn(smsg, UserWarning)\n",
      "c:\\Users\\lulil\\anaconda3\\lib\\site-packages\\xgboost\\core.py:158: UserWarning: [10:13:06] WARNING: C:\\buildkite-agent\\builds\\buildkite-windows-cpu-autoscaling-group-i-06abd128ca6c1688d-1\\xgboost\\xgboost-ci-windows\\src\\learner.cc:740: \n",
      "Parameters: { \"base_estimator\", \"label\" } are not used.\n",
      "\n",
      "  warnings.warn(smsg, UserWarning)\n",
      "c:\\Users\\lulil\\anaconda3\\lib\\site-packages\\xgboost\\core.py:158: UserWarning: [10:13:15] WARNING: C:\\buildkite-agent\\builds\\buildkite-windows-cpu-autoscaling-group-i-06abd128ca6c1688d-1\\xgboost\\xgboost-ci-windows\\src\\learner.cc:740: \n",
      "Parameters: { \"base_estimator\", \"label\" } are not used.\n",
      "\n",
      "  warnings.warn(smsg, UserWarning)\n",
      "c:\\Users\\lulil\\anaconda3\\lib\\site-packages\\xgboost\\core.py:158: UserWarning: [10:13:23] WARNING: C:\\buildkite-agent\\builds\\buildkite-windows-cpu-autoscaling-group-i-06abd128ca6c1688d-1\\xgboost\\xgboost-ci-windows\\src\\learner.cc:740: \n",
      "Parameters: { \"base_estimator\", \"label\" } are not used.\n",
      "\n",
      "  warnings.warn(smsg, UserWarning)\n",
      "c:\\Users\\lulil\\anaconda3\\lib\\site-packages\\xgboost\\core.py:158: UserWarning: [10:13:32] WARNING: C:\\buildkite-agent\\builds\\buildkite-windows-cpu-autoscaling-group-i-06abd128ca6c1688d-1\\xgboost\\xgboost-ci-windows\\src\\learner.cc:740: \n",
      "Parameters: { \"base_estimator\", \"label\" } are not used.\n",
      "\n",
      "  warnings.warn(smsg, UserWarning)\n",
      "c:\\Users\\lulil\\anaconda3\\lib\\site-packages\\xgboost\\core.py:158: UserWarning: [10:13:40] WARNING: C:\\buildkite-agent\\builds\\buildkite-windows-cpu-autoscaling-group-i-06abd128ca6c1688d-1\\xgboost\\xgboost-ci-windows\\src\\learner.cc:740: \n",
      "Parameters: { \"base_estimator\", \"label\" } are not used.\n",
      "\n",
      "  warnings.warn(smsg, UserWarning)\n",
      "c:\\Users\\lulil\\anaconda3\\lib\\site-packages\\xgboost\\core.py:158: UserWarning: [10:13:48] WARNING: C:\\buildkite-agent\\builds\\buildkite-windows-cpu-autoscaling-group-i-06abd128ca6c1688d-1\\xgboost\\xgboost-ci-windows\\src\\learner.cc:740: \n",
      "Parameters: { \"base_estimator\", \"label\" } are not used.\n",
      "\n",
      "  warnings.warn(smsg, UserWarning)\n",
      "c:\\Users\\lulil\\anaconda3\\lib\\site-packages\\xgboost\\core.py:158: UserWarning: [10:13:57] WARNING: C:\\buildkite-agent\\builds\\buildkite-windows-cpu-autoscaling-group-i-06abd128ca6c1688d-1\\xgboost\\xgboost-ci-windows\\src\\learner.cc:740: \n",
      "Parameters: { \"base_estimator\", \"label\" } are not used.\n",
      "\n",
      "  warnings.warn(smsg, UserWarning)\n",
      "c:\\Users\\lulil\\anaconda3\\lib\\site-packages\\xgboost\\core.py:158: UserWarning: [10:14:05] WARNING: C:\\buildkite-agent\\builds\\buildkite-windows-cpu-autoscaling-group-i-06abd128ca6c1688d-1\\xgboost\\xgboost-ci-windows\\src\\learner.cc:740: \n",
      "Parameters: { \"base_estimator\", \"label\" } are not used.\n",
      "\n",
      "  warnings.warn(smsg, UserWarning)\n",
      "c:\\Users\\lulil\\anaconda3\\lib\\site-packages\\xgboost\\core.py:158: UserWarning: [10:14:14] WARNING: C:\\buildkite-agent\\builds\\buildkite-windows-cpu-autoscaling-group-i-06abd128ca6c1688d-1\\xgboost\\xgboost-ci-windows\\src\\learner.cc:740: \n",
      "Parameters: { \"base_estimator\", \"label\" } are not used.\n",
      "\n",
      "  warnings.warn(smsg, UserWarning)\n",
      "c:\\Users\\lulil\\anaconda3\\lib\\site-packages\\xgboost\\core.py:158: UserWarning: [10:14:22] WARNING: C:\\buildkite-agent\\builds\\buildkite-windows-cpu-autoscaling-group-i-06abd128ca6c1688d-1\\xgboost\\xgboost-ci-windows\\src\\learner.cc:740: \n",
      "Parameters: { \"base_estimator\", \"label\" } are not used.\n",
      "\n",
      "  warnings.warn(smsg, UserWarning)\n",
      "c:\\Users\\lulil\\anaconda3\\lib\\site-packages\\xgboost\\core.py:158: UserWarning: [10:14:31] WARNING: C:\\buildkite-agent\\builds\\buildkite-windows-cpu-autoscaling-group-i-06abd128ca6c1688d-1\\xgboost\\xgboost-ci-windows\\src\\learner.cc:740: \n",
      "Parameters: { \"base_estimator\", \"label\" } are not used.\n",
      "\n",
      "  warnings.warn(smsg, UserWarning)\n",
      "c:\\Users\\lulil\\anaconda3\\lib\\site-packages\\xgboost\\core.py:158: UserWarning: [10:14:40] WARNING: C:\\buildkite-agent\\builds\\buildkite-windows-cpu-autoscaling-group-i-06abd128ca6c1688d-1\\xgboost\\xgboost-ci-windows\\src\\learner.cc:740: \n",
      "Parameters: { \"base_estimator\", \"label\" } are not used.\n",
      "\n",
      "  warnings.warn(smsg, UserWarning)\n",
      "c:\\Users\\lulil\\anaconda3\\lib\\site-packages\\xgboost\\core.py:158: UserWarning: [10:14:49] WARNING: C:\\buildkite-agent\\builds\\buildkite-windows-cpu-autoscaling-group-i-06abd128ca6c1688d-1\\xgboost\\xgboost-ci-windows\\src\\learner.cc:740: \n",
      "Parameters: { \"base_estimator\", \"label\" } are not used.\n",
      "\n",
      "  warnings.warn(smsg, UserWarning)\n",
      "c:\\Users\\lulil\\anaconda3\\lib\\site-packages\\xgboost\\core.py:158: UserWarning: [10:14:57] WARNING: C:\\buildkite-agent\\builds\\buildkite-windows-cpu-autoscaling-group-i-06abd128ca6c1688d-1\\xgboost\\xgboost-ci-windows\\src\\learner.cc:740: \n",
      "Parameters: { \"base_estimator\", \"label\" } are not used.\n",
      "\n",
      "  warnings.warn(smsg, UserWarning)\n",
      "c:\\Users\\lulil\\anaconda3\\lib\\site-packages\\xgboost\\core.py:158: UserWarning: [10:15:06] WARNING: C:\\buildkite-agent\\builds\\buildkite-windows-cpu-autoscaling-group-i-06abd128ca6c1688d-1\\xgboost\\xgboost-ci-windows\\src\\learner.cc:740: \n",
      "Parameters: { \"base_estimator\", \"label\" } are not used.\n",
      "\n",
      "  warnings.warn(smsg, UserWarning)\n"
     ]
    },
    {
     "name": "stdout",
     "output_type": "stream",
     "text": [
      " #### RECHERCHE DES PARAMETRES OPTIMAUX POUR XGBOOST #### \n",
      "\n",
      " Paramètres optimaux : \n",
      "OrderedDict([('base_estimator', DecisionTreeClassifier()), ('booster', 'gbtree'), ('label', 'mcc_3409'), ('learning_rate', 0.18836122562764152), ('objective', 'binary:logistic')])\n",
      "\n",
      " Résultats  : 0.8267724726939676\n"
     ]
    }
   ],
   "source": [
    "opt.fit(X_train, y_train)\n",
    "best_param_opti_bayes =opt.best_params_\n",
    "best_score_opti_bayes = opt.best_score_\n",
    "all_result_opti_bayes = opt.cv_results_\n",
    "print(\" #### RECHERCHE DES PARAMETRES OPTIMAUX POUR XGBOOST #### \")\n",
    "print(\"\\n Paramètres optimaux : \")\n",
    "best_param_opti_bayes =opt.best_params_\n",
    "print(best_param_opti_bayes)\n",
    "best_score_opti_bayes = opt.best_score_\n",
    "print(\"\\n Résultats  : \" + str(best_score_opti_bayes))"
   ]
  },
  {
   "cell_type": "code",
   "execution_count": 23,
   "metadata": {},
   "outputs": [
    {
     "name": "stderr",
     "output_type": "stream",
     "text": [
      "c:\\Users\\lulil\\anaconda3\\lib\\site-packages\\xgboost\\core.py:158: UserWarning: [10:15:38] WARNING: C:\\buildkite-agent\\builds\\buildkite-windows-cpu-autoscaling-group-i-06abd128ca6c1688d-1\\xgboost\\xgboost-ci-windows\\src\\learner.cc:740: \n",
      "Parameters: { \"base_estimator\", \"label\" } are not used.\n",
      "\n",
      "  warnings.warn(smsg, UserWarning)\n"
     ]
    },
    {
     "data": {
      "text/plain": [
       "XGBClassifier(base_estimator=DecisionTreeClassifier(), base_score=None,\n",
       "              booster='gbtree', callbacks=None, colsample_bylevel=None,\n",
       "              colsample_bynode=None, colsample_bytree=None, device=None,\n",
       "              early_stopping_rounds=None, enable_categorical=False,\n",
       "              eval_metric=None, feature_types=None, gamma=None,\n",
       "              grow_policy=None, importance_type=None,\n",
       "              interaction_constraints=None, label='mcc_3409',\n",
       "              learning_rate=0.18836122562764152, max_bin=None,\n",
       "              max_cat_threshold=None, max_cat_to_onehot=None,\n",
       "              max_delta_step=None, max_depth=None, max_leaves=None,\n",
       "              min_child_weight=None, missing=nan, monotone_constraints=None,\n",
       "              multi_strategy=None, n_estimators=None, n_jobs=None, ...)"
      ]
     },
     "execution_count": 23,
     "metadata": {},
     "output_type": "execute_result"
    }
   ],
   "source": [
    "xgb_clf = xgb.XGBClassifier(**opt.best_params_)\n",
    "xgb_clf.fit(X_train,y_train)"
   ]
  },
  {
   "cell_type": "code",
   "execution_count": 24,
   "metadata": {},
   "outputs": [],
   "source": [
    "importance_variable_xgb = pd.DataFrame()\n",
    "importance_variable_xgb[\"Variable\"]= X_train.columns # X_train.columns pour utiliser les anciens noms\n",
    "importance_variable_xgb[\"Feature Importance\"] = xgb_clf.feature_importances_ "
   ]
  },
  {
   "cell_type": "code",
   "execution_count": 25,
   "metadata": {},
   "outputs": [
    {
     "data": {
      "text/html": [
       "<div>\n",
       "<style scoped>\n",
       "    .dataframe tbody tr th:only-of-type {\n",
       "        vertical-align: middle;\n",
       "    }\n",
       "\n",
       "    .dataframe tbody tr th {\n",
       "        vertical-align: top;\n",
       "    }\n",
       "\n",
       "    .dataframe thead th {\n",
       "        text-align: right;\n",
       "    }\n",
       "</style>\n",
       "<table border=\"1\" class=\"dataframe\">\n",
       "  <thead>\n",
       "    <tr style=\"text-align: right;\">\n",
       "      <th></th>\n",
       "      <th>Variable</th>\n",
       "      <th>Feature Importance</th>\n",
       "    </tr>\n",
       "  </thead>\n",
       "  <tbody>\n",
       "    <tr>\n",
       "      <th>24</th>\n",
       "      <td>pays_076</td>\n",
       "      <td>0.028820</td>\n",
       "    </tr>\n",
       "    <tr>\n",
       "      <th>154</th>\n",
       "      <td>pays_792</td>\n",
       "      <td>0.028542</td>\n",
       "    </tr>\n",
       "    <tr>\n",
       "      <th>146</th>\n",
       "      <td>pays_752</td>\n",
       "      <td>0.022673</td>\n",
       "    </tr>\n",
       "    <tr>\n",
       "      <th>2</th>\n",
       "      <td>fm_velocity_condition_24</td>\n",
       "      <td>0.020669</td>\n",
       "    </tr>\n",
       "    <tr>\n",
       "      <th>843</th>\n",
       "      <td>jour_12</td>\n",
       "      <td>0.019867</td>\n",
       "    </tr>\n",
       "  </tbody>\n",
       "</table>\n",
       "</div>"
      ],
      "text/plain": [
       "                     Variable  Feature Importance\n",
       "24                   pays_076            0.028820\n",
       "154                  pays_792            0.028542\n",
       "146                  pays_752            0.022673\n",
       "2    fm_velocity_condition_24            0.020669\n",
       "843                   jour_12            0.019867"
      ]
     },
     "execution_count": 25,
     "metadata": {},
     "output_type": "execute_result"
    }
   ],
   "source": [
    "importance_variable_xgb.sort_values(by = \"Feature Importance\", axis=0, ascending=False, inplace=True)\n",
    "importance_variable_xgb.head(5)"
   ]
  },
  {
   "cell_type": "markdown",
   "metadata": {},
   "source": [
    "# 1. Approche statistique : maximiser un critère tel que l'AUC"
   ]
  },
  {
   "cell_type": "markdown",
   "metadata": {},
   "source": [
    "`Courbes ROC sur données train`"
   ]
  },
  {
   "cell_type": "code",
   "execution_count": 29,
   "metadata": {},
   "outputs": [],
   "source": [
    "#pour le train\n",
    "\n",
    "#RF\n",
    "fpr_test_RF, tpr_test_RF, _ = roc_curve(y_train, rf_clf.predict_proba(X_train)[:,1])\n",
    "roc_auc_test_RF = auc(fpr_test_RF, tpr_test_RF)"
   ]
  },
  {
   "cell_type": "code",
   "execution_count": 32,
   "metadata": {},
   "outputs": [],
   "source": [
    "#XGBoost\n",
    "fpr_train_XGB, tpr_train_XGB, thresholds_train_XGB = roc_curve(y_train, xgb_clf.predict_proba(X_train)[:,1])\n",
    "roc_auc_train_XGB = auc(fpr_train_XGB, tpr_train_XGB)"
   ]
  },
  {
   "cell_type": "code",
   "execution_count": 34,
   "metadata": {},
   "outputs": [
    {
     "data": {
      "image/png": "[encoded data removed]",
      "text/plain": [
       "<Figure size 432x288 with 1 Axes>"
      ]
     },
     "metadata": {
      "needs_background": "light"
     },
     "output_type": "display_data"
    }
   ],
   "source": [
    "# ROC\n",
    "\n",
    "lw = 2\n",
    "# Random Forest\n",
    "plt.plot(fpr_test_RF, tpr_test_RF, color='darkorange',\n",
    "         lw=lw, label='RF - ROC curve (area = %0.2f)' % roc_auc_test_RF)\n",
    "\n",
    "\n",
    "# XGBoost\n",
    "plt.plot(fpr_train_XGB, tpr_train_XGB, color='darkblue',\n",
    "         lw=lw, label='XGB - ROC curve (area = %0.2f)' % roc_auc_train_XGB)\n",
    "\n",
    "plt.plot([0, 1], [0, 1], color='black', lw=lw, linestyle='--')\n",
    "plt.xlim([0.0, 1.0])\n",
    "plt.ylim([0.0, 1.05])\n",
    "plt.xlabel('False Positive Rate')\n",
    "plt.ylabel('True Positive Rate')\n",
    "plt.title('Comparaison courbes ROC (TEST)')\n",
    "plt.legend(loc=\"lower right\")\n",
    "plt.show()"
   ]
  },
  {
   "cell_type": "markdown",
   "metadata": {},
   "source": [
    "`Courbes ROC sur données test`"
   ]
  },
  {
   "cell_type": "code",
   "execution_count": 37,
   "metadata": {},
   "outputs": [],
   "source": [
    "#pour le test\n",
    "\n",
    "#RF\n",
    "fpr_test_RF, tpr_test_RF, _ = roc_curve(y_test, rf_clf.predict_proba(X_test)[:,1])\n",
    "roc_auc_test_RF = auc(fpr_test_RF, tpr_test_RF)\n",
    "\n",
    "#XGBOOST\n",
    "fpr_test_XGB, tpr_test_XGB, _ = roc_curve(y_test, xgb_clf.predict_proba(X_test)[:,1])\n",
    "roc_auc_test_XGB = auc(fpr_test_XGB, tpr_test_XGB)"
   ]
  },
  {
   "cell_type": "code",
   "execution_count": 38,
   "metadata": {},
   "outputs": [
    {
     "data": {
      "image/png": "[encoded data removed]",
      "text/plain": [
       "<Figure size 432x288 with 1 Axes>"
      ]
     },
     "metadata": {
      "needs_background": "light"
     },
     "output_type": "display_data"
    }
   ],
   "source": [
    "# Random Forest\n",
    "plt.plot(fpr_test_RF, tpr_test_RF, color='darkorange',\n",
    "         lw=lw, label='RF - ROC curve (area = %0.2f)' % roc_auc_test_RF)\n",
    "\n",
    "# XGBoost\n",
    "plt.plot(fpr_test_XGB, tpr_test_XGB, color='darkblue',\n",
    "         lw=lw, label='XGB - ROC curve (area = %0.2f)' % roc_auc_test_XGB)\n",
    "\n",
    "plt.plot([0, 1], [0, 1], color='black', lw=lw, linestyle='--')\n",
    "plt.xlim([0.0, 1.0])\n",
    "plt.ylim([0.0, 1.05])\n",
    "plt.xlabel('False Positive Rate')\n",
    "plt.ylabel('True Positive Rate')\n",
    "plt.title('Comparaison courbes ROC (TEST)')\n",
    "plt.legend(loc=\"lower right\")\n",
    "plt.show()"
   ]
  },
  {
   "cell_type": "code",
   "execution_count": 42,
   "metadata": {},
   "outputs": [
    {
     "name": "stdout",
     "output_type": "stream",
     "text": [
      "APP - RF : LogLoss  : 0.029222870555828197\n",
      "APP - XGB : LogLoss  : 0.019807878606247567 \n",
      "\n",
      "TEST - RF : LogLoss  : 0.03133881013404395\n",
      "TEST - XGB : LogLoss  : 0.028701412877853442\n"
     ]
    }
   ],
   "source": [
    "print(\"APP - RF : LogLoss  : \" + str(log_loss(y_train, rf_clf.predict_proba(X_train)[:,1])))\n",
    "print(\"APP - XGB : LogLoss  : \" + str(log_loss(y_train, xgb_clf.predict_proba(X_train)[:,1])),'\\n')\n",
    "print(\"TEST - RF : LogLoss  : \" + str(log_loss(y_test, rf_clf.predict_proba(X_test)[:,1])))\n",
    "print(\"TEST - XGB : LogLoss  : \" + str(log_loss(y_test, xgb_clf.predict_proba(X_test)[:,1])))"
   ]
  },
  {
   "cell_type": "markdown",
   "metadata": {},
   "source": [
    "# 2. Approche métier : arbitrer utiliser le recall"
   ]
  },
  {
   "cell_type": "code",
   "execution_count": 46,
   "metadata": {},
   "outputs": [],
   "source": [
    "precision_test_RF,recall_test_RF,thresholds_test_RF = precision_recall_curve(y_test, rf_clf.predict_proba(X_test)[:,1])\n",
    "precision_test_XGB,recall_test_XGB,thresholds_test_XGB = precision_recall_curve(y_test, xgb_clf.predict_proba(X_test)[:,1])"
   ]
  },
  {
   "cell_type": "code",
   "execution_count": 47,
   "metadata": {},
   "outputs": [
    {
     "data": {
      "image/png": "[encoded data removed]",
      "text/plain": [
       "<Figure size 432x288 with 1 Axes>"
      ]
     },
     "metadata": {
      "needs_background": "light"
     },
     "output_type": "display_data"
    }
   ],
   "source": [
    "lw = 2\n",
    "plt.plot(recall_test_RF,precision_test_RF, color='darkorange',\n",
    "         lw=lw, label='RF')\n",
    "\n",
    "plt.plot(recall_test_XGB,precision_test_XGB, color='darkblue',\n",
    "         lw=lw, label='XGB')\n",
    "plt.xlim([0.0, 1.0])\n",
    "plt.ylim([0.0, 1.05])\n",
    "plt.xlabel('Recall')\n",
    "plt.ylabel('Precision')\n",
    "plt.title('Courbes Précision / Recall (TEST)')\n",
    "plt.legend(loc=\"lower left\")\n",
    "plt.show()"
   ]
  },
  {
   "cell_type": "code",
   "execution_count": 48,
   "metadata": {},
   "outputs": [
    {
     "data": {
      "text/html": [
       "<div>\n",
       "<style scoped>\n",
       "    .dataframe tbody tr th:only-of-type {\n",
       "        vertical-align: middle;\n",
       "    }\n",
       "\n",
       "    .dataframe tbody tr th {\n",
       "        vertical-align: top;\n",
       "    }\n",
       "\n",
       "    .dataframe thead th {\n",
       "        text-align: right;\n",
       "    }\n",
       "</style>\n",
       "<table border=\"1\" class=\"dataframe\">\n",
       "  <thead>\n",
       "    <tr style=\"text-align: right;\">\n",
       "      <th></th>\n",
       "      <th>Seuil</th>\n",
       "      <th>Precision_test_RF</th>\n",
       "      <th>Recall_test_RF</th>\n",
       "    </tr>\n",
       "  </thead>\n",
       "  <tbody>\n",
       "    <tr>\n",
       "      <th>10228</th>\n",
       "      <td>0.179375</td>\n",
       "      <td>1.000000</td>\n",
       "      <td>0.000000</td>\n",
       "    </tr>\n",
       "    <tr>\n",
       "      <th>10227</th>\n",
       "      <td>0.172721</td>\n",
       "      <td>1.000000</td>\n",
       "      <td>0.007519</td>\n",
       "    </tr>\n",
       "    <tr>\n",
       "      <th>10226</th>\n",
       "      <td>0.137898</td>\n",
       "      <td>1.000000</td>\n",
       "      <td>0.015038</td>\n",
       "    </tr>\n",
       "    <tr>\n",
       "      <th>10225</th>\n",
       "      <td>0.129308</td>\n",
       "      <td>1.000000</td>\n",
       "      <td>0.022556</td>\n",
       "    </tr>\n",
       "    <tr>\n",
       "      <th>10224</th>\n",
       "      <td>0.129242</td>\n",
       "      <td>0.750000</td>\n",
       "      <td>0.022556</td>\n",
       "    </tr>\n",
       "    <tr>\n",
       "      <th>10223</th>\n",
       "      <td>0.125585</td>\n",
       "      <td>0.800000</td>\n",
       "      <td>0.030075</td>\n",
       "    </tr>\n",
       "    <tr>\n",
       "      <th>10222</th>\n",
       "      <td>0.119132</td>\n",
       "      <td>0.833333</td>\n",
       "      <td>0.037594</td>\n",
       "    </tr>\n",
       "    <tr>\n",
       "      <th>10221</th>\n",
       "      <td>0.108512</td>\n",
       "      <td>0.714286</td>\n",
       "      <td>0.037594</td>\n",
       "    </tr>\n",
       "    <tr>\n",
       "      <th>10220</th>\n",
       "      <td>0.105392</td>\n",
       "      <td>0.750000</td>\n",
       "      <td>0.045113</td>\n",
       "    </tr>\n",
       "    <tr>\n",
       "      <th>10219</th>\n",
       "      <td>0.101135</td>\n",
       "      <td>0.777778</td>\n",
       "      <td>0.052632</td>\n",
       "    </tr>\n",
       "  </tbody>\n",
       "</table>\n",
       "</div>"
      ],
      "text/plain": [
       "          Seuil  Precision_test_RF  Recall_test_RF\n",
       "10228  0.179375           1.000000        0.000000\n",
       "10227  0.172721           1.000000        0.007519\n",
       "10226  0.137898           1.000000        0.015038\n",
       "10225  0.129308           1.000000        0.022556\n",
       "10224  0.129242           0.750000        0.022556\n",
       "10223  0.125585           0.800000        0.030075\n",
       "10222  0.119132           0.833333        0.037594\n",
       "10221  0.108512           0.714286        0.037594\n",
       "10220  0.105392           0.750000        0.045113\n",
       "10219  0.101135           0.777778        0.052632"
      ]
     },
     "execution_count": 48,
     "metadata": {},
     "output_type": "execute_result"
    }
   ],
   "source": [
    "## Choix du seuil - Tableau seuil /\n",
    "table_choix_seuil = pd.DataFrame()\n",
    "table_choix_seuil[\"Seuil\"] = [0] + list(thresholds_test_RF)\n",
    "table_choix_seuil[\"Precision_test_RF\"] = precision_test_RF\n",
    "table_choix_seuil[\"Recall_test_RF\"] = recall_test_RF\n",
    "table_choix_seuil.sort_values(by = \"Seuil\", axis=0, ascending=False, inplace=True)\n",
    "table_choix_seuil.head(10)"
   ]
  }
 ],
 "metadata": {
  "kernelspec": {
   "display_name": "base",
   "language": "python",
   "name": "python3"
  },
  "language_info": {
   "codemirror_mode": {
    "name": "ipython",
    "version": 3
   },
   "file_extension": ".py",
   "mimetype": "text/x-python",
   "name": "python",
   "nbconvert_exporter": "python",
   "pygments_lexer": "ipython3",
   "version": "3.9.12"
  }
 },
 "nbformat": 4,
 "nbformat_minor": 2
}
