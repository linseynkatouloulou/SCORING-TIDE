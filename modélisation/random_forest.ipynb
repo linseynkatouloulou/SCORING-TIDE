{
 "cells": [
  {
   "cell_type": "markdown",
   "metadata": {},
   "source": [
    "### III- Analyse modèle de Random Forest "
   ]
  },
  {
   "cell_type": "code",
   "execution_count": 2,
   "metadata": {},
   "outputs": [
    {
     "name": "stdout",
     "output_type": "stream",
     "text": [
      "Current working directory: c:\\Users\\lulil\\OneDrive\\Documents\\SCORING-TIDE\\modélisation\n",
      "Updated sys.path: ['c:\\\\Users\\\\lulil\\\\OneDrive\\\\Documents\\\\SCORING-TIDE\\\\modélisation', 'c:\\\\Users\\\\lulil\\\\anaconda3\\\\python39.zip', 'c:\\\\Users\\\\lulil\\\\anaconda3\\\\DLLs', 'c:\\\\Users\\\\lulil\\\\anaconda3\\\\lib', 'c:\\\\Users\\\\lulil\\\\anaconda3', '', 'C:\\\\Users\\\\lulil\\\\AppData\\\\Roaming\\\\Python\\\\Python39\\\\site-packages', 'c:\\\\Users\\\\lulil\\\\anaconda3\\\\lib\\\\site-packages', 'c:\\\\Users\\\\lulil\\\\anaconda3\\\\lib\\\\site-packages\\\\win32', 'c:\\\\Users\\\\lulil\\\\anaconda3\\\\lib\\\\site-packages\\\\win32\\\\lib', 'c:\\\\Users\\\\lulil\\\\anaconda3\\\\lib\\\\site-packages\\\\Pythonwin', 'c:\\\\Users\\\\lulil\\\\OneDrive\\\\Documents\\\\SCORING-TIDE']\n"
     ]
    }
   ],
   "source": [
    "import pyarrow.parquet as pq\n",
    "import pyarrow as pa\n",
    "import pandas as pd\n",
    "import sys\n",
    "import os\n",
    "\n",
    "print(\"Current working directory:\", os.getcwd())\n",
    "\n",
    "sys.path.append(os.path.abspath('..'))\n",
    "print(\"Updated sys.path:\", sys.path)\n",
    "from fonctions import defined_X_y\n",
    "import xgboost as xgb\n",
    "from sklearn.linear_model import LogisticRegression\n",
    "from sklearn.tree import DecisionTreeClassifier\n",
    "from sklearn.ensemble import RandomForestClassifier\n",
    "from skopt.space import Real,Integer,Categorical\n",
    "from skopt import BayesSearchCV\n",
    "from timeit import default_timer as timer\n",
    "from sklearn.metrics import roc_curve, auc\n",
    "import matplotlib.pyplot as plt\n",
    "from sklearn.metrics import log_loss\n",
    "from sklearn.metrics import precision_recall_curve\n",
    "from sklearn.metrics import average_precision_score"
   ]
  },
  {
   "cell_type": "code",
   "execution_count": 3,
   "metadata": {},
   "outputs": [],
   "source": [
    "table = pq.read_table('../data/train_dummies_data.parquet')\n",
    "t = pq.read_table('../data/test_dummies_data.parquet')\n",
    "train_df = table.to_pandas()\n",
    "test_df = t.to_pandas()"
   ]
  },
  {
   "cell_type": "code",
   "execution_count": 4,
   "metadata": {},
   "outputs": [],
   "source": [
    "X_train, y_train = defined_X_y(train_df, 'fraude')\n",
    "X_test, y_test = defined_X_y(test_df, 'fraude')"
   ]
  },
  {
   "cell_type": "markdown",
   "metadata": {},
   "source": [
    "1. Random Forest"
   ]
  },
  {
   "cell_type": "code",
   "execution_count": 5,
   "metadata": {},
   "outputs": [],
   "source": [
    "param_dict_bayes_RF = {\n",
    "    'n_estimators' : Integer(10,200),\n",
    "    'criterion': Categorical(['gini', 'entropy']), \n",
    "    'max_depth': Integer(2,10),\n",
    "    'bootstrap':Categorical([True,False])}"
   ]
  },
  {
   "cell_type": "code",
   "execution_count": 6,
   "metadata": {},
   "outputs": [
    {
     "name": "stdout",
     "output_type": "stream",
     "text": [
      " #### RECHERCHE DES PARAMETRES OPTIMAUX POUR LE RANDOM FOREST #### \n",
      "\n",
      " Paramètres optimaux : \n",
      "OrderedDict([('bootstrap', False), ('criterion', 'gini'), ('max_depth', 8), ('n_estimators', 63)])\n",
      "\n",
      " Résultats  : 0.8184952040727359\n"
     ]
    }
   ],
   "source": [
    "#recherche des hyperparèmetres optimaux\n",
    "\n",
    "opt = BayesSearchCV(RandomForestClassifier(),param_dict_bayes_RF,n_iter=5,cv=3,scoring = 'roc_auc',random_state=1)\n",
    "\n",
    "\n",
    "opt.fit(X_train, y_train)\n",
    "best_param_opti_bayes =opt.best_params_\n",
    "best_score_opti_bayes = opt.best_score_\n",
    "all_result_opti_bayes = opt.cv_results_\n",
    "print(\" #### RECHERCHE DES PARAMETRES OPTIMAUX POUR LE RANDOM FOREST #### \")\n",
    "print(\"\\n Paramètres optimaux : \")\n",
    "best_param_opti_bayes =opt.best_params_\n",
    "print(best_param_opti_bayes)\n",
    "best_score_opti_bayes = opt.best_score_\n",
    "print(\"\\n Résultats  : \" + str(best_score_opti_bayes))"
   ]
  },
  {
   "cell_type": "code",
   "execution_count": 7,
   "metadata": {},
   "outputs": [
    {
     "data": {
      "text/plain": [
       "RandomForestClassifier(bootstrap=False, max_depth=8, n_estimators=63)"
      ]
     },
     "execution_count": 7,
     "metadata": {},
     "output_type": "execute_result"
    }
   ],
   "source": [
    "rf_clf = RandomForestClassifier(**opt.best_params_)\n",
    "rf_clf.fit(X_train,y_train)"
   ]
  },
  {
   "cell_type": "code",
   "execution_count": 8,
   "metadata": {},
   "outputs": [
    {
     "name": "stdout",
     "output_type": "stream",
     "text": [
      "                     Variable  Feature Importance\n",
      "3                   fm_sum_24            0.191458\n",
      "2    fm_velocity_condition_24            0.180289\n",
      "4        fm_redondance_mcc_24            0.065800\n",
      "0                     coderep            0.058122\n",
      "154                  pays_792            0.046705\n",
      "..                        ...                 ...\n",
      "381                  mcc_3563            0.000000\n",
      "382                  mcc_3565            0.000000\n",
      "383                  mcc_3567            0.000000\n",
      "384                  mcc_3568            0.000000\n",
      "438                  mcc_3668            0.000000\n",
      "\n",
      "[876 rows x 2 columns]\n"
     ]
    }
   ],
   "source": [
    "importance_variable_rf = pd.DataFrame()\n",
    "importance_variable_rf[\"Variable\"] = X_train.columns\n",
    "importance_variable_rf[\"Feature Importance\"] = rf_clf.feature_importances_\n",
    "\n",
    "# Sort the DataFrame by feature importance\n",
    "importance_variable_rf = importance_variable_rf.sort_values(by=\"Feature Importance\", ascending=False)\n",
    "\n",
    "# Display the DataFrame\n",
    "print(importance_variable_rf)"
   ]
  },
  {
   "cell_type": "markdown",
   "metadata": {},
   "source": [
    "# 1. Approche statistique : maximiser un critère tel que l'AUC"
   ]
  },
  {
   "cell_type": "markdown",
   "metadata": {},
   "source": [
    "`Courbes ROC sur données train`"
   ]
  },
  {
   "cell_type": "code",
   "execution_count": 9,
   "metadata": {},
   "outputs": [],
   "source": [
    "#pour le test\n",
    "\n",
    "fpr_test_RF, tpr_test_RF, _ = roc_curve(y_train, rf_clf.predict_proba(X_train)[:,1])\n",
    "roc_auc_test_RF = auc(fpr_test_RF, tpr_test_RF)"
   ]
  },
  {
   "cell_type": "code",
   "execution_count": 11,
   "metadata": {},
   "outputs": [],
   "source": [
    "#pour le train\n",
    "\n",
    "fpr_train_RF, tpr_train_RF, thresholds_train_RF = roc_curve(y_train, rf_clf.predict_proba(X_train)[:,1])\n",
    "roc_auc_train_RF = auc(fpr_train_RF, tpr_train_RF)\n"
   ]
  },
  {
   "cell_type": "code",
   "execution_count": 13,
   "metadata": {},
   "outputs": [
    {
     "data": {
      "image/png": "[encoded data removed]",
      "text/plain": [
       "<Figure size 432x288 with 1 Axes>"
      ]
     },
     "metadata": {
      "needs_background": "light"
     },
     "output_type": "display_data"
    }
   ],
   "source": [
    "# ROC\n",
    "\n",
    "lw = 2\n",
    "# Random Forest\n",
    "\n",
    "plt.plot(fpr_test_RF, tpr_test_RF, color='darkorange',\n",
    "         lw=lw, label='RF test - ROC curve (area = %0.2f)' % roc_auc_test_RF)\n",
    "\n",
    "plt.plot(fpr_train_RF, tpr_train_RF, color='blue',\n",
    "         lw=lw, label='RF train - ROC curve (area = %0.2f)' % roc_auc_train_RF)\n",
    "\n",
    "\n",
    "plt.plot([0, 1], [0, 1], color='black', lw=lw, linestyle='--')\n",
    "plt.xlim([0.0, 1.0])\n",
    "plt.ylim([0.0, 1.05])\n",
    "plt.xlabel('False Positive Rate')\n",
    "plt.ylabel('True Positive Rate')\n",
    "plt.title('Comparaison courbes ROC (TEST)')\n",
    "plt.legend(loc=\"lower right\")\n",
    "plt.show()"
   ]
  },
  {
   "cell_type": "code",
   "execution_count": 14,
   "metadata": {},
   "outputs": [
    {
     "name": "stdout",
     "output_type": "stream",
     "text": [
      "APP - RF : LogLoss  : 0.03254241037789615\n",
      "TEST - RF : LogLoss  : 0.03161829708027499\n"
     ]
    }
   ],
   "source": [
    "print(\"APP - RF : LogLoss  : \" + str(log_loss(y_train, rf_clf.predict_proba(X_train)[:,1])))\n",
    "print(\"TEST - RF : LogLoss  : \" + str(log_loss(y_test, rf_clf.predict_proba(X_test)[:,1])))"
   ]
  },
  {
   "cell_type": "markdown",
   "metadata": {},
   "source": [
    "# 2. Approche métier : arbitrer utiliser le recall"
   ]
  },
  {
   "cell_type": "code",
   "execution_count": 16,
   "metadata": {},
   "outputs": [],
   "source": [
    "precision_test_RF,recall_test_RF,thresholds_test_RF = precision_recall_curve(y_test, rf_clf.predict_proba(X_test)[:,1])"
   ]
  },
  {
   "cell_type": "code",
   "execution_count": 17,
   "metadata": {},
   "outputs": [
    {
     "data": {
      "image/png": "[encoded data removed]",
      "text/plain": [
       "<Figure size 432x288 with 1 Axes>"
      ]
     },
     "metadata": {
      "needs_background": "light"
     },
     "output_type": "display_data"
    }
   ],
   "source": [
    "lw = 2\n",
    "plt.plot(recall_test_RF,precision_test_RF, color='darkorange',\n",
    "         lw=lw, label='RF')\n",
    "\n",
    "plt.xlim([0.0, 1.0])\n",
    "plt.ylim([0.0, 1.05])\n",
    "plt.xlabel('Recall')\n",
    "plt.ylabel('Precision')\n",
    "plt.title('Courbes Précision / Recall (TEST)')\n",
    "plt.legend(loc=\"lower left\")\n",
    "plt.show()"
   ]
  },
  {
   "cell_type": "code",
   "execution_count": 18,
   "metadata": {},
   "outputs": [
    {
     "data": {
      "text/html": [
       "<div>\n",
       "<style scoped>\n",
       "    .dataframe tbody tr th:only-of-type {\n",
       "        vertical-align: middle;\n",
       "    }\n",
       "\n",
       "    .dataframe tbody tr th {\n",
       "        vertical-align: top;\n",
       "    }\n",
       "\n",
       "    .dataframe thead th {\n",
       "        text-align: right;\n",
       "    }\n",
       "</style>\n",
       "<table border=\"1\" class=\"dataframe\">\n",
       "  <thead>\n",
       "    <tr style=\"text-align: right;\">\n",
       "      <th></th>\n",
       "      <th>Seuil</th>\n",
       "      <th>Precision_test_RF</th>\n",
       "      <th>Recall_test_RF</th>\n",
       "    </tr>\n",
       "  </thead>\n",
       "  <tbody>\n",
       "    <tr>\n",
       "      <th>79320</th>\n",
       "      <td>0.200992</td>\n",
       "      <td>1.0</td>\n",
       "      <td>0.000000</td>\n",
       "    </tr>\n",
       "    <tr>\n",
       "      <th>79319</th>\n",
       "      <td>0.187455</td>\n",
       "      <td>1.0</td>\n",
       "      <td>0.000720</td>\n",
       "    </tr>\n",
       "    <tr>\n",
       "      <th>79318</th>\n",
       "      <td>0.184373</td>\n",
       "      <td>1.0</td>\n",
       "      <td>0.001440</td>\n",
       "    </tr>\n",
       "    <tr>\n",
       "      <th>79317</th>\n",
       "      <td>0.176400</td>\n",
       "      <td>1.0</td>\n",
       "      <td>0.002160</td>\n",
       "    </tr>\n",
       "    <tr>\n",
       "      <th>79316</th>\n",
       "      <td>0.171048</td>\n",
       "      <td>1.0</td>\n",
       "      <td>0.002880</td>\n",
       "    </tr>\n",
       "    <tr>\n",
       "      <th>79315</th>\n",
       "      <td>0.165047</td>\n",
       "      <td>1.0</td>\n",
       "      <td>0.003600</td>\n",
       "    </tr>\n",
       "    <tr>\n",
       "      <th>79314</th>\n",
       "      <td>0.163685</td>\n",
       "      <td>1.0</td>\n",
       "      <td>0.004320</td>\n",
       "    </tr>\n",
       "    <tr>\n",
       "      <th>79313</th>\n",
       "      <td>0.160945</td>\n",
       "      <td>1.0</td>\n",
       "      <td>0.005040</td>\n",
       "    </tr>\n",
       "    <tr>\n",
       "      <th>79312</th>\n",
       "      <td>0.158955</td>\n",
       "      <td>1.0</td>\n",
       "      <td>0.005760</td>\n",
       "    </tr>\n",
       "    <tr>\n",
       "      <th>79311</th>\n",
       "      <td>0.157670</td>\n",
       "      <td>1.0</td>\n",
       "      <td>0.006479</td>\n",
       "    </tr>\n",
       "  </tbody>\n",
       "</table>\n",
       "</div>"
      ],
      "text/plain": [
       "          Seuil  Precision_test_RF  Recall_test_RF\n",
       "79320  0.200992                1.0        0.000000\n",
       "79319  0.187455                1.0        0.000720\n",
       "79318  0.184373                1.0        0.001440\n",
       "79317  0.176400                1.0        0.002160\n",
       "79316  0.171048                1.0        0.002880\n",
       "79315  0.165047                1.0        0.003600\n",
       "79314  0.163685                1.0        0.004320\n",
       "79313  0.160945                1.0        0.005040\n",
       "79312  0.158955                1.0        0.005760\n",
       "79311  0.157670                1.0        0.006479"
      ]
     },
     "execution_count": 18,
     "metadata": {},
     "output_type": "execute_result"
    }
   ],
   "source": [
    "## Choix du seuil - Tableau seuil /\n",
    "table_choix_seuil = pd.DataFrame()\n",
    "table_choix_seuil[\"Seuil\"] = [0] + list(thresholds_test_RF)\n",
    "table_choix_seuil[\"Precision_test_RF\"] = precision_test_RF\n",
    "table_choix_seuil[\"Recall_test_RF\"] = recall_test_RF\n",
    "table_choix_seuil.sort_values(by = \"Seuil\", axis=0, ascending=False, inplace=True)\n",
    "table_choix_seuil.head(10)"
   ]
  }
 ],
 "metadata": {
  "kernelspec": {
   "display_name": "base",
   "language": "python",
   "name": "python3"
  },
  "language_info": {
   "codemirror_mode": {
    "name": "ipython",
    "version": 3
   },
   "file_extension": ".py",
   "mimetype": "text/x-python",
   "name": "python",
   "nbconvert_exporter": "python",
   "pygments_lexer": "ipython3",
   "version": "3.9.12"
  }
 },
 "nbformat": 4,
 "nbformat_minor": 2
}
