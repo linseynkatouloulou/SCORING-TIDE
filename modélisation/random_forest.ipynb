{
 "cells": [
  {
   "cell_type": "markdown",
   "metadata": {},
   "source": [
    "### III- Random forest"
   ]
  },
  {
   "cell_type": "markdown",
   "metadata": {},
   "source": [
    "Le modèle"
   ]
  },
  {
   "cell_type": "code",
   "execution_count": 31,
   "metadata": {},
   "outputs": [
    {
     "name": "stdout",
     "output_type": "stream",
     "text": [
      "Current working directory: c:\\Users\\lulil\\OneDrive\\Documents\\SCORING-TIDE\\modélisation\n",
      "Updated sys.path: ['c:\\\\Users\\\\lulil\\\\OneDrive\\\\Documents\\\\SCORING-TIDE\\\\modélisation', 'c:\\\\Users\\\\lulil\\\\anaconda3\\\\python39.zip', 'c:\\\\Users\\\\lulil\\\\anaconda3\\\\DLLs', 'c:\\\\Users\\\\lulil\\\\anaconda3\\\\lib', 'c:\\\\Users\\\\lulil\\\\anaconda3', '', 'c:\\\\Users\\\\lulil\\\\anaconda3\\\\lib\\\\site-packages', 'c:\\\\Users\\\\lulil\\\\anaconda3\\\\lib\\\\site-packages\\\\win32', 'c:\\\\Users\\\\lulil\\\\anaconda3\\\\lib\\\\site-packages\\\\win32\\\\lib', 'c:\\\\Users\\\\lulil\\\\anaconda3\\\\lib\\\\site-packages\\\\Pythonwin', 'c:\\\\Users\\\\lulil\\\\OneDrive\\\\Documents\\\\SCORING-TIDE', 'c:\\\\Users\\\\lulil\\\\OneDrive\\\\Documents\\\\SCORING-TIDE']\n"
     ]
    }
   ],
   "source": [
    "import pyarrow.parquet as pq\n",
    "import pyarrow as pa\n",
    "import pandas as pd\n",
    "import sys\n",
    "import os\n",
    "\n",
    "print(\"Current working directory:\", os.getcwd())\n",
    "\n",
    "sys.path.append(os.path.abspath('..'))\n",
    "print(\"Updated sys.path:\", sys.path)\n",
    "from fonctions import defined_X_y\n",
    "from sklearn.ensemble import RandomForestClassifier\n",
    "from skopt.space import Real,Integer,Categorical\n",
    "from skopt import BayesSearchCV\n",
    "from timeit import default_timer as timer\n",
    "from sklearn.metrics import roc_curve, auc\n",
    "import matplotlib.pyplot as plt"
   ]
  },
  {
   "cell_type": "code",
   "execution_count": 32,
   "metadata": {},
   "outputs": [],
   "source": [
    "table = pq.read_table('../data/train_dummies_data.parquet')\n",
    "t = pq.read_table('../data/test_dummies_data.parquet')\n",
    "train_df = table.to_pandas()\n",
    "test_df = t.to_pandas()"
   ]
  },
  {
   "cell_type": "code",
   "execution_count": 3,
   "metadata": {},
   "outputs": [],
   "source": [
    "X, y = defined_X_y(train_df, 'fraude')"
   ]
  },
  {
   "cell_type": "code",
   "execution_count": 6,
   "metadata": {},
   "outputs": [],
   "source": [
    "param_dict_bayes_RF = {\n",
    "    'n_estimators' : Integer(10,200),\n",
    "    'criterion': Categorical(['gini', 'entropy']), \n",
    "    'max_depth': Integer(2,10),\n",
    "    'bootstrap':Categorical([True,False])}"
   ]
  },
  {
   "cell_type": "code",
   "execution_count": 11,
   "metadata": {},
   "outputs": [],
   "source": [
    "import pandas as pd\n",
    "import numpy as np\n",
    "from sklearn.model_selection import train_test_split\n",
    "from sklearn.ensemble import RandomForestClassifier\n",
    "from sklearn.metrics import classification_report, confusion_matrix, accuracy_score\n",
    "from skopt import BayesSearchCV"
   ]
  },
  {
   "cell_type": "code",
   "execution_count": 25,
   "metadata": {},
   "outputs": [],
   "source": [
    "df_sample = train_df.sample(frac=0.1, random_state=42)"
   ]
  },
  {
   "cell_type": "code",
   "execution_count": 26,
   "metadata": {},
   "outputs": [],
   "source": [
    "X_tr, y_tr = defined_X_y(df_sample, 'fraude')"
   ]
  },
  {
   "cell_type": "code",
   "execution_count": 24,
   "metadata": {},
   "outputs": [
    {
     "name": "stdout",
     "output_type": "stream",
     "text": [
      " #### RECHERCHE DES PARAMETRES OPTIMAUX POUR LE RANDOM FOREST #### \n",
      "\n",
      " Paramètres optimaux : \n",
      "OrderedDict([('bootstrap', False), ('criterion', 'gini'), ('max_depth', 8), ('n_estimators', 63)])\n",
      "\n",
      " Résultats  : 0.817093645845229\n"
     ]
    }
   ],
   "source": [
    "#recherche des hyperparèmetres optimaux\n",
    "\n",
    "opt = BayesSearchCV(RandomForestClassifier(),param_dict_bayes_RF,n_iter=5,cv=3,scoring = 'roc_auc',random_state=1)\n",
    "\n",
    "\n",
    "opt.fit(X_tr, y_tr)\n",
    "best_param_opti_bayes =opt.best_params_\n",
    "best_score_opti_bayes = opt.best_score_\n",
    "all_result_opti_bayes = opt.cv_results_\n",
    "print(\" #### RECHERCHE DES PARAMETRES OPTIMAUX POUR LE RANDOM FOREST #### \")\n",
    "print(\"\\n Paramètres optimaux : \")\n",
    "best_param_opti_bayes =opt.best_params_\n",
    "print(best_param_opti_bayes)\n",
    "best_score_opti_bayes = opt.best_score_\n",
    "print(\"\\n Résultats  : \" + str(best_score_opti_bayes))"
   ]
  },
  {
   "cell_type": "code",
   "execution_count": 28,
   "metadata": {},
   "outputs": [
    {
     "data": {
      "text/plain": [
       "RandomForestClassifier(bootstrap=False, max_depth=8, n_estimators=63)"
      ]
     },
     "execution_count": 28,
     "metadata": {},
     "output_type": "execute_result"
    }
   ],
   "source": [
    "rf_clf = RandomForestClassifier(**opt.best_params_)\n",
    "rf_clf.fit(X_tr,y_tr)"
   ]
  },
  {
   "cell_type": "code",
   "execution_count": 30,
   "metadata": {},
   "outputs": [
    {
     "name": "stdout",
     "output_type": "stream",
     "text": [
      "                     Variable  Feature Importance\n",
      "2    fm_velocity_condition_24            0.188994\n",
      "3                   fm_sum_24            0.110427\n",
      "1                     montant            0.070200\n",
      "4        fm_redondance_mcc_24            0.043125\n",
      "154                  pays_792            0.042584\n",
      "..                        ...                 ...\n",
      "352                  mcc_3517            0.000000\n",
      "353                  mcc_3518            0.000000\n",
      "354                  mcc_3519            0.000000\n",
      "355                  mcc_3520            0.000000\n",
      "438                  mcc_3668            0.000000\n",
      "\n",
      "[876 rows x 2 columns]\n"
     ]
    }
   ],
   "source": [
    "importance_variable_rf = pd.DataFrame()\n",
    "importance_variable_rf[\"Variable\"] = X_tr.columns\n",
    "importance_variable_rf[\"Feature Importance\"] = rf_clf.feature_importances_\n",
    "\n",
    "# Sort the DataFrame by feature importance\n",
    "importance_variable_rf = importance_variable_rf.sort_values(by=\"Feature Importance\", ascending=False)\n",
    "\n",
    "# Display the DataFrame\n",
    "print(importance_variable_rf)"
   ]
  },
  {
   "cell_type": "markdown",
   "metadata": {},
   "source": [
    "<div class=\"alert alert-block alert-info\">\n",
    "<b>Rappel:</b> Deux approches pour sélectionner un modèle et le seuil :\n",
    " <br>1. Approche statistique : maximiser un critère tel que l'AUC\n",
    " <br>2. Approche métier : arbitrer utiliser le lift\n",
    "</div>"
   ]
  },
  {
   "cell_type": "code",
   "execution_count": null,
   "metadata": {},
   "outputs": [],
   "source": [
    "fpr_test_RF, tpr_test_RF, _ = roc_curve(y_test, rf_clf.predict_proba(X_test)[:,1])\n",
    "roc_auc_test_RF = auc(fpr_test_RF, tpr_test_RF)"
   ]
  },
  {
   "cell_type": "code",
   "execution_count": null,
   "metadata": {},
   "outputs": [],
   "source": [
    "# ROC\n",
    "\n",
    "param_graph()\n",
    "lw = 2\n",
    "\n",
    "# Random Forest\n",
    "plt.plot(fpr_test_RF, tpr_test_RF, color='darkorange',\n",
    "         lw=lw, label='RF - ROC curve (area = %0.2f)' % roc_auc_test_RF)\n",
    "\n",
    "\n",
    "\n",
    "plt.plot([0, 1], [0, 1], color='black', lw=lw, linestyle='--')\n",
    "plt.xlim([0.0, 1.0])\n",
    "plt.ylim([0.0, 1.05])\n",
    "plt.xlabel('False Positive Rate')\n",
    "plt.ylabel('True Positive Rate')\n",
    "plt.title('Comparaison courbes ROC (TEST)')\n",
    "plt.legend(loc=\"lower right\")\n",
    "plt.show()"
   ]
  }
 ],
 "metadata": {
  "kernelspec": {
   "display_name": "base",
   "language": "python",
   "name": "python3"
  },
  "language_info": {
   "codemirror_mode": {
    "name": "ipython",
    "version": 3
   },
   "file_extension": ".py",
   "mimetype": "text/x-python",
   "name": "python",
   "nbconvert_exporter": "python",
   "pygments_lexer": "ipython3",
   "version": "3.9.12"
  }
 },
 "nbformat": 4,
 "nbformat_minor": 2
}
